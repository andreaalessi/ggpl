{
 "cells": [
  {
   "cell_type": "markdown",
   "metadata": {},
   "source": [
    "# Roof trought sheaf of planes"
   ]
  },
  {
   "cell_type": "markdown",
   "metadata": {},
   "source": [
    "## Model of Roof:"
   ]
  },
  {
   "cell_type": "markdown",
   "metadata": {},
   "source": [
    "![Caption Figura](images/mansardRoof.png)"
   ]
  },
  {
   "cell_type": "code",
   "execution_count": null,
   "metadata": {
    "collapsed": false
   },
   "outputs": [
    {
     "name": "stdout",
     "output_type": "stream",
     "text": [
      "Evaluating fenvs.py..\n",
      "...fenvs.py imported in 0.005548 seconds\n"
     ]
    },
    {
     "name": "stderr",
     "output_type": "stream",
     "text": [
      "/Users/Andrea/anaconda/lib/python2.7/site-packages/larlib/larstruct.py:233: FutureWarning: comparison to `None` will result in an elementwise object comparison in the future.\n",
      "  self.body = [item for item in data if item != None]\n"
     ]
    }
   ],
   "source": [
    "from larlib import *\n",
    "\n",
    "parLineDis = .8\n",
    "\n",
    "def mkpolsPerpLine(A,B):\n",
    "    x1,y1,z1 = A\n",
    "    x2,y2,z2 = B\n",
    "    \n",
    "    angle = ATAN2([ (y1-y2), (x2-x1) ])\n",
    "    \n",
    "    A1 = [x1+COS(angle)*parLineDis, y1+SIN(angle)*parLineDis,z1]\n",
    "    B2 = [x2+COS(angle)*parLineDis, y2+SIN(angle)*parLineDis,z2]\n",
    "    \n",
    "    s = STRUCT(MKPOLS( [[A,B,A1,B2], [[0,1,2,3]], None ] ))\n",
    "    return s\n",
    "\n",
    "def linesPitch(A,B,rad):\n",
    "    x1,y1,z1 = A\n",
    "    x2,y2,z2 = B\n",
    "    \n",
    "    objRot = mkpolsPerpLine(A,B)\n",
    "    angle = ATAN2([ (x2-x1), (y1-y2) ])\n",
    "    toOrigin = T([1,2])([-A[0], -A[1]])(objRot)\n",
    "    toOrigin = R([1,2])(angle)(toOrigin)\n",
    "    rotation = R([2,3])(rad)(toOrigin)\n",
    "    originPitch = R([1,2])(-angle)(rotation)\n",
    "    \n",
    "    return T([1,2])([A[0], A[1]])(originPitch)\n",
    "\n",
    "def p(A):\n",
    "    l = []\n",
    "    for i in A:\n",
    "        l.append(round(i, 5))\n",
    "    return l\n",
    "\n",
    "#plane passing through 3 points\n",
    "def planeEquation(A,B,C):\n",
    "    x1,y1,z1 = p(A)\n",
    "    x2,y2,z2 = p(B)\n",
    "    x3,y3,z3 = p(C)\n",
    "    \n",
    "    v1 = [x2 - x1, y2 - y1, z2 - z1]\n",
    "    v2 = [x3 - x1, y3 - y1, z3 - z1]\n",
    "\n",
    "    vProduct = [v1[1] * v2[2] - v1[2] * v2[1], -1 * (v1[0] * v2[2] - v1[2] * v2[0]), v1[0] * v2[1] - v1[1] * v2[0]]\n",
    "\n",
    "    a = vProduct[0]\n",
    "    b = vProduct[1]\n",
    "    c = vProduct[2]\n",
    "    d = - (vProduct[0] * x1 + vProduct[1] * y1 + vProduct[2] * z1)\n",
    "    return [a,b,c,d]\n",
    "\n",
    "#intersection of 3 planes\n",
    "def interPlanes(p1, p2, p3):\n",
    "    A = numpy.array([p1[:3], p2[:3], p3[:3]])\n",
    "    B = -1*numpy.array([p1[-1], p2[-1], p3[-1]])\n",
    "    return p(list(numpy.linalg.solve(A,B)))\n",
    "\n",
    "#roof from the intersection points at the height of z\n",
    "def roof(l, z):\n",
    "    pol = []\n",
    "    for i in range(len(l)):\n",
    "        p1x,p1y = l[i-1][0],l[i-1][1]\n",
    "        p2x,p2y = l[i][0],l[i][1]\n",
    "        pol.append(MKPOL( [ [[p1x,p1y],[p2x,p2y]],[[1,2]],None ] ))\n",
    "    return T(3)(z)(SOLIDIFY(STRUCT(pol)))\n",
    "\n",
    "def createRoof(V,F,z,rad):\n",
    "    roofPlaneEq = [0.0, -0.0, 1.0, -z]\n",
    "    pitches = []\n",
    "    #pitch creation\n",
    "    for i in F:\n",
    "        A = V[i[0]-1]\n",
    "        B = V[i[1]-1]\n",
    "        fsa = linesPitch(A,B,rad)\n",
    "        pitches.append(fsa)\n",
    "        \n",
    "    iPoints = []\n",
    "    #find Intersection points\n",
    "    for i in range(len(pitches)):\n",
    "        #find equation of each pitch\n",
    "        pol1 = UKPOL(pitches[i-1])[0]\n",
    "        a,b,c= p(pol1[0]), p(pol1[1]), p(pol1[2])\n",
    "\n",
    "        pol2 = UKPOL(pitches[i])[0]\n",
    "        a1,b1,c1= p(pol2[0]), p(pol2[1]), p(pol2[2])\n",
    "\n",
    "        p1 = planeEquation(a,b,c)\n",
    "        p2 = planeEquation(a1,b1,c1)\n",
    "\n",
    "        px = interPlanes(p1,p2,roofPlaneEq)\n",
    "        iPoints.append(px)\n",
    "    \n",
    "    \n",
    "    #create Pitches from intersection Points\n",
    "    intP = []\n",
    "    for i in range(len(iPoints)):\n",
    "        v1 = V[i-1]\n",
    "        v2 = V[i]\n",
    "        i2 = iPoints[i]\n",
    "        i1 = iPoints[i-1]\n",
    "        pitch = MKPOL([ [v1,v2,i2,i1],[[1,2,3,4]],None ])\n",
    "        intP.append(pitch)\n",
    "    \n",
    "    return [STRUCT(intP), roof(iPoints, z)]\n",
    "\n",
    "#test\n",
    "#h of the rood\n",
    "z = .5\n",
    "\n",
    "#roof1\n",
    "V = [[0,0,0],[10,0,0],[10,4,0],[4,4,0],[4,10,0],[0,10,0]]\n",
    "F = [[1,2],[2,3],[3,4],[4,5],[5,6],[6,1]]\n",
    "\n",
    "cover, roof = createRoof(V,F,z,PI/4)\n",
    "\n",
    "cover = TEXTURE([\"texture/roof.jpg\", TRUE, FALSE, 1, 1, 0, 6, 6])(cover)\n",
    "roof = TEXTURE([\"texture/terrazzo.jpg\", TRUE, FALSE, 1, 1, 0, 6, 6])(roof)\n",
    "VIEW(STRUCT([cover, roof]))\n",
    "\n",
    "#roof2\n",
    "V = [[0,0,0],[4,0,0],[4,1,0],[1,1,0],[1,4,0],[0,4,0]]\n",
    "F = [[1,2],[2,3],[3,4],[4,5],[5,6],[6,1]]\n",
    "\n",
    "falde, tetto = createRoof(V,F,z,PI/4)\n",
    "falde = TEXTURE([\"texture/roof.jpg\", TRUE, FALSE, 1, 1, 0, 6, 6])(cover)\n",
    "tetto = TEXTURE([\"texture/terrazzo.jpg\", TRUE, FALSE, 1, 1, 0, 6, 6])(roof)\n",
    "VIEW(STRUCT([cover, roof]))\n",
    "\n"
   ]
  },
  {
   "cell_type": "markdown",
   "metadata": {},
   "source": [
    "## Results:"
   ]
  },
  {
   "cell_type": "markdown",
   "metadata": {},
   "source": [
    "![Caption Figura](images/roof1.png)"
   ]
  },
  {
   "cell_type": "markdown",
   "metadata": {},
   "source": [
    "![Caption Figura](images/roof12.png)"
   ]
  },
  {
   "cell_type": "markdown",
   "metadata": {},
   "source": [
    "![Caption Figura](images/roof21.png)"
   ]
  },
  {
   "cell_type": "markdown",
   "metadata": {},
   "source": [
    "![Caption Figura](images/roof22.png)"
   ]
  },
  {
   "cell_type": "code",
   "execution_count": null,
   "metadata": {
    "collapsed": true
   },
   "outputs": [],
   "source": []
  }
 ],
 "metadata": {
  "anaconda-cloud": {},
  "kernelspec": {
   "display_name": "Python [default]",
   "language": "python",
   "name": "python2"
  },
  "language_info": {
   "codemirror_mode": {
    "name": "ipython",
    "version": 2
   },
   "file_extension": ".py",
   "mimetype": "text/x-python",
   "name": "python",
   "nbconvert_exporter": "python",
   "pygments_lexer": "ipython2",
   "version": "2.7.12"
  }
 },
 "nbformat": 4,
 "nbformat_minor": 1
}
