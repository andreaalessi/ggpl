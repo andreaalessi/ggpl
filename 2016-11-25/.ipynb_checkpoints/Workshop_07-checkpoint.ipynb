{
 "cells": [
  {
   "cell_type": "markdown",
   "metadata": {},
   "source": [
    "# Door and Window"
   ]
  },
  {
   "cell_type": "markdown",
   "metadata": {},
   "source": [
    "### Description Workshop:"
   ]
  },
  {
   "cell_type": "markdown",
   "metadata": {},
   "source": [
    "In this workshop I will represent two functions of the second order, respectively, will create a front door and a window. The figures, below, which I took as model represent a main door flanked by two glass windows and a multiple window door.\n",
    "Because of the Boolean representation and the possibility to choose the solid part and the empty part of the changes were made to the followings models."
   ]
  },
  {
   "cell_type": "markdown",
   "metadata": {},
   "source": [
    "### Main Door:"
   ]
  },
  {
   "cell_type": "markdown",
   "metadata": {
    "collapsed": true
   },
   "source": [
    "![Caption Figura](door.jpg)"
   ]
  },
  {
   "cell_type": "markdown",
   "metadata": {},
   "source": [
    "### Window:"
   ]
  },
  {
   "cell_type": "markdown",
   "metadata": {},
   "source": [
    "![Caption Figura](window.png)"
   ]
  },
  {
   "cell_type": "code",
   "execution_count": 2,
   "metadata": {
    "collapsed": false
   },
   "outputs": [
    {
     "name": "stdout",
     "output_type": "stream",
     "text": [
      "Evaluating fenvs.py..\n",
      "...fenvs.py imported in 0.008775 seconds\n"
     ]
    }
   ],
   "source": [
    "from pyplasm import *"
   ]
  },
  {
   "cell_type": "markdown",
   "metadata": {},
   "source": [
    "### Function for the door:"
   ]
  },
  {
   "cell_type": "code",
   "execution_count": 3,
   "metadata": {
    "collapsed": true
   },
   "outputs": [],
   "source": [
    "def door(X,Y,Z,occupancy):\n",
    "    \n",
    "    #inizialize sections\n",
    "    section1 = PROD([QUOTE([0]),QUOTE([0])])\n",
    "    section2= PROD([QUOTE([0]),QUOTE([0])])\n",
    "    \n",
    "    #skim the list occupancy and settle the Values\n",
    "    for iz in range(0,len(Z)):\n",
    "        for ix in range(0,len(X)):\n",
    "            if occupancy[iz][ix] == 0:\n",
    "                if X[ix] > 0:\n",
    "                    X[ix] = -(X[ix])\n",
    "            elif occupancy[iz][ix] == 1:\n",
    "                    if X[ix] < 0:\n",
    "                        X[ix] = -(X[ix])\n",
    "        x = QUOTE(X)\n",
    "        z = QUOTE([Z[iz]])\n",
    "        \n",
    "        #level of section1\n",
    "        level1 = PROD([x,z])\n",
    "        \n",
    "        #level of section2\n",
    "        j=0\n",
    "        for k in range(0,iz):\n",
    "            j = j+Z[k]\n",
    "        section1 = STRUCT([section1,T(2)(j),level1])\n",
    "        pos = 0\n",
    "        for i in range(0,len(X)):\n",
    "            X[i] = -(X[i])\n",
    "            if X[i]>0:\n",
    "                pos = pos+1\n",
    "        if pos>0:\n",
    "            level2X = QUOTE(X)\n",
    "            level2 = PROD([level2X,z])\n",
    "            section2 = STRUCT([section2,T(2)(j),level2])\n",
    "            \n",
    "    section1 = PROD([section1,QUOTE([Y[0]])])\n",
    "    section2 = PROD([section2,QUOTE([Y[1]])])\n",
    "    section1 = STRUCT([R([2,3])(PI/2),section1])\n",
    "    section2= STRUCT([T(2)(-Y[0]/5),R([2,3])(PI/2),section2])\n",
    "    \n",
    "    #fill with texture\n",
    "    section2 = TEXTURE([\"rosa.jpg\"])(section2)\n",
    "    section1 =  TEXTURE([\"wood.jpg\"])(section1)\n",
    "\n",
    "    #create and moved 3 CUBOID for do a handler\n",
    "    part1 = T(3)(.15)(CUBOID([.05,.02,.05]))\n",
    "    part2 = CUBOID([.05,.02,.05])\n",
    "    part3 = CUBOID([.03,.01,0.2])\n",
    "    handler = TEXTURE(\"metal.jpg\")(STRUCT([part1, part2, part3]))\n",
    "    handler = STRUCT([R([2,3])(PI),handler])\n",
    "    handler = T([1,2,3])([dx/2.-0.2*SIZE([1])(handler)[0],-.15,.8])(handler)\n",
    "\n",
    "    \n",
    "    section12 = STRUCT([section1,section2])\n",
    "    \n",
    "    def door(dx,dy,dz):\n",
    "        resizeStructure = STRUCT([S([1,2,3])([dx,dy,dz]),section12,handler])\n",
    "        return resizeStructure\n",
    "    \n",
    "    return door"
   ]
  },
  {
   "cell_type": "markdown",
   "metadata": {},
   "source": [
    "### Parameters used to obtain an example of a result:"
   ]
  },
  {
   "cell_type": "code",
   "execution_count": null,
   "metadata": {
    "collapsed": false
   },
   "outputs": [],
   "source": [
    "#the door's forms and measures\n",
    "X = [.08,.05,.2,.05,.08,.001,.15,.2,.15,.2,.15,.08,.05,.2,.05,.08]\n",
    "Y = [.10,.10]\n",
    "Z = [.15,.2,.02,.20,.02,.15,.15,.02,.4,.02,.15,.25,.02,.15,.02,.1]\n",
    "dx = 2.5\n",
    "dy = 3\n",
    "dz = 3\n",
    "\n",
    "#list of lists of Boolean\n",
    "occupancy = [[0,1,1,1,0,0,1,1,1,1,1,0,1,1,1,0],\n",
    "            [0,1,0,1,0,1,1,0,1,0,1,0,1,0,1,0],\n",
    "            [0,1,1,1,0,1,1,0,1,0,1,0,1,1,1,0],\n",
    "            [0,1,0,1,0,1,1,0,1,0,1,0,1,0,1,0],\n",
    "            [0,1,0,1,0,1,1,1,1,1,1,0,1,0,1,0],\n",
    "            [0,1,0,1,0,1,1,1,1,1,1,0,1,0,1,0],\n",
    "            [0,1,0,1,0,1,1,0,1,0,1,0,1,0,1,0],\n",
    "            [0,1,1,1,0,1,1,0,1,0,1,0,1,1,1,0],\n",
    "            [0,1,0,1,0,1,1,0,1,0,1,0,1,0,1,0],\n",
    "            [0,1,1,1,0,1,1,0,1,0,1,0,1,1,1,0],\n",
    "            [0,1,0,1,0,1,1,1,1,1,1,0,1,0,1,0],\n",
    "            [0,1,0,1,0,1,1,0,1,0,1,0,1,0,1,0],\n",
    "            [0,1,1,1,0,1,1,0,1,0,1,0,1,1,1,0],\n",
    "            [0,1,0,1,0,1,1,1,1,1,1,0,1,0,1,0],\n",
    "            [0,1,1,1,0,1,1,1,1,1,1,0,1,1,1,0],\n",
    "            [0,0,0,0,0,1,0,0,0,0,0,0,0,0,0,0]]\n",
    "\n",
    "#result and view\n",
    "result= door(X,Y,Z,occupancy)(dx,dy,dz)\n",
    "VIEW(result)"
   ]
  },
  {
   "cell_type": "markdown",
   "metadata": {},
   "source": [
    "## Result:"
   ]
  },
  {
   "cell_type": "markdown",
   "metadata": {},
   "source": [
    "![Caption Figura](door1.png)"
   ]
  },
  {
   "cell_type": "markdown",
   "metadata": {},
   "source": [
    "![Caption Figura](door2.png)"
   ]
  },
  {
   "cell_type": "code",
   "execution_count": 4,
   "metadata": {
    "collapsed": false
   },
   "outputs": [
    {
     "name": "stdout",
     "output_type": "stream",
     "text": [
      "Evaluating fenvs.py..\n",
      "...fenvs.py imported in 0.006437 seconds\n"
     ]
    }
   ],
   "source": [
    "from pyplasm import *"
   ]
  },
  {
   "cell_type": "markdown",
   "metadata": {},
   "source": [
    "### Function for the window:"
   ]
  },
  {
   "cell_type": "code",
   "execution_count": 5,
   "metadata": {
    "collapsed": true
   },
   "outputs": [],
   "source": [
    "def window(X,Y,Z,occupancy):\n",
    "    \n",
    "    #inizialize sections\n",
    "    fullSection = PROD([QUOTE([0]),QUOTE([0])])\n",
    "    emptySection = PROD([QUOTE([0]),QUOTE([0])])\n",
    "    \n",
    "    for iz in range(0,len(Z)):\n",
    "        for ix in range(0,len(X)):\n",
    "            if occupancy[iz][ix] == 0:\n",
    "                if X[ix] > 0:\n",
    "                    X[ix] = -(X[ix])\n",
    "            elif occupancy[iz][ix] == 1:\n",
    "                    if X[ix] < 0:\n",
    "                        X[ix] = -(X[ix])\n",
    "        x = QUOTE(X)\n",
    "        z = QUOTE([Z[iz]])\n",
    "\n",
    "        #level of a fullSection\n",
    "        level = PROD([x,z])\n",
    "        #level of a emptySection\n",
    "        j=0\n",
    "        for k in range(0,iz):\n",
    "            j = j+Z[k]\n",
    "        fullSection = STRUCT([fullSection,T(2)(j),level])\n",
    "        pos = 0\n",
    "        for i in range(0,len(X)):\n",
    "            X[i] = -(X[i])\n",
    "            if X[i]>0:\n",
    "                pos = pos+1        \n",
    "        if pos>0:\n",
    "            emptyX = QUOTE(X)\n",
    "            emptyLevel = PROD([emptyX,z])\n",
    "            emptySection = STRUCT([emptySection,T(2)(j),emptyLevel])\n",
    "            \n",
    "\n",
    "   \n",
    "    fullSection = PROD([fullSection,QUOTE([Y[0]])])\n",
    "    emptySection = PROD([emptySection,QUOTE([Y[1]])])\n",
    "    fullSection = STRUCT([R([2,3])(PI/2),fullSection])\n",
    "    emptySection = STRUCT([T(2)(-Y[0]/2),R([2,3])(PI/2),emptySection])\n",
    "    \n",
    "    #fill with texture\n",
    "    emptySection = TEXTURE([\"glass.jpg\"])(emptySection)\n",
    "    fullSection = TEXTURE([\"white.jpg\"])(fullSection)\n",
    "\n",
    "    #create and moved 3 CUBOID for do a handler\n",
    "    part1 = T(3)(.15)(CUBOID([.03,.02,.05]))\n",
    "    part2 = CUBOID([.03,.02,.05])\n",
    "    part3 = CUBOID([.03,.01,0.2])\n",
    "    handler = TEXTURE(\"metal.jpg\")(STRUCT([part1, part2, part3]))\n",
    "    handler = STRUCT([R([2,3])(PI),handler])\n",
    "    handler1 = T([1,2,3])([dx+.5,-.15,1.2])(handler)\n",
    "    handler2 = T([1,2,3])([dx+.65,-.15,1.2])(handler)\n",
    "   \n",
    "\n",
    "    fullEmpty = STRUCT([fullSection,emptySection,handler1,handler2])\n",
    "    \n",
    "    def window(dx,dy,dz):\n",
    "        scaledStructure = STRUCT([S([1,2,3])([dx,dy,dz]),fullEmpty])\n",
    "        return scaledStructure\n",
    "    \n",
    "    return window"
   ]
  },
  {
   "cell_type": "markdown",
   "metadata": {},
   "source": [
    "### Parameters used to obtain an example of a result:"
   ]
  },
  {
   "cell_type": "code",
   "execution_count": null,
   "metadata": {
    "collapsed": false
   },
   "outputs": [],
   "source": [
    "#the window's forms and measures\n",
    "X = [.15,.03,.02,.39,.02,.03,.15,.01,.15,.03,.02,.39,.02,.03,.15,.01,.15,\n",
    "\t .03,.02,.39,.02,.03,.15,.01,.15,.03,.02,.39,.02,.03,.15]\n",
    "Y = [.15,.03]\n",
    "Z = [.15,.3,1.62,.3,.15]\n",
    "dx = 5\n",
    "dy = 2\n",
    "dz = 3\n",
    "occupancy = [[1,1,1,1,1,1,1,1,1,1,1,1,1,1,1,1,1,1,1,1,1,1,1,1,1,1,1,1,1,1,1],\n",
    "\t\t\t[1,0,1,0,1,0,1,0,1,0,1,0,1,0,1,0,1,0,1,0,1,0,1,0,1,0,1,0,1,0,1],\t\t\t\n",
    "\t\t\t[1,0,1,0,1,0,1,0,1,0,1,0,1,0,1,0,1,0,1,0,1,0,1,0,1,0,1,0,1,0,1],\n",
    "\t\t\t[1,0,1,0,1,0,1,0,1,0,1,0,1,0,1,0,1,0,1,0,1,0,1,0,1,0,1,0,1,0,1],\n",
    "\t\t\t[1,1,1,1,1,1,1,1,1,1,1,1,1,1,1,1,1,1,1,1,1,1,1,1,1,1,1,1,1,1,1]]\n",
    "\n",
    "#result and view\n",
    "result= window(X,Y,Z,occupancy)(dx,dy,dz)\n",
    "VIEW(result)"
   ]
  },
  {
   "cell_type": "markdown",
   "metadata": {},
   "source": [
    "### Result:"
   ]
  },
  {
   "cell_type": "markdown",
   "metadata": {},
   "source": [
    "![Caption Figura](window1.png)"
   ]
  },
  {
   "cell_type": "markdown",
   "metadata": {},
   "source": [
    "![Caption Figura](window2.png)"
   ]
  },
  {
   "cell_type": "code",
   "execution_count": null,
   "metadata": {
    "collapsed": true
   },
   "outputs": [],
   "source": []
  }
 ],
 "metadata": {
  "anaconda-cloud": {},
  "kernelspec": {
   "display_name": "Python [default]",
   "language": "python",
   "name": "python2"
  },
  "language_info": {
   "codemirror_mode": {
    "name": "ipython",
    "version": 2
   },
   "file_extension": ".py",
   "mimetype": "text/x-python",
   "name": "python",
   "nbconvert_exporter": "python",
   "pygments_lexer": "ipython2",
   "version": "2.7.12"
  }
 },
 "nbformat": 4,
 "nbformat_minor": 1
}
