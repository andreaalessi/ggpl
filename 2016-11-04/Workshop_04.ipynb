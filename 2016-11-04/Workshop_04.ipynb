{
 "cells": [
  {
   "cell_type": "markdown",
   "metadata": {},
   "source": [
    "# Workshop 4 : my roof builder"
   ]
  },
  {
   "cell_type": "markdown",
   "metadata": {},
   "source": [
    "## Modello preso in esempio: "
   ]
  },
  {
   "cell_type": "markdown",
   "metadata": {},
   "source": [
    "![Caption Figura](roof1.jpg)"
   ]
  },
  {
   "cell_type": "markdown",
   "metadata": {},
   "source": [
    "![Caption Figura](roof2.jpg)"
   ]
  },
  {
   "cell_type": "markdown",
   "metadata": {},
   "source": [
    "### Workshop Exposure:\n",
    "\n",
    "In questo workshop ho preso come modello un tetto di una struttura simile a quella in figura sopra. Per fare questo, ho scritto una singola funzione che prende in ingresso 4 facciate di un tetto, complete di tutti i loro punti e riunite in una struttura. Da qui, ho rappresentato l'offset dello skeleton della struttura ed ho riempito il tetto con quattro faglie ognuna ad ogni facciata.\n"
   ]
  },
  {
   "cell_type": "code",
   "execution_count": null,
   "metadata": {
    "collapsed": false
   },
   "outputs": [
    {
     "name": "stdout",
     "output_type": "stream",
     "text": [
      "Evaluating fenvs.py..\n",
      "...fenvs.py imported in 0.009704 seconds\n",
      "P1\n",
      "[[[2.0, 2.5, 2.5], [0.0, 0.0, 0.0], [2.0, 2.5, 0.0], [10.0, 0.0, 0.0], [8.0, 2.5, 2.5], [8.0, 2.5, 0.0]], [[1, 2, 3, 4, 5, 6]], [[1]]]\n",
      "P2\n",
      "[[[8.0, 2.5, 2.5], [10.0, 0.0, 0.0], [10.0, 5.0, 0.0], [8.0, 2.5, 0.0]], [[1, 2, 3, 4]], [[1]]]\n",
      "P3\n",
      "[[[2.0, 2.5, 2.5], [0.0, 5.0, 0.0], [2.0, 2.5, 0.0], [10.0, 5.0, 0.0], [8.0, 2.5, 2.5], [8.0, 2.5, 0.0]], [[1, 2, 3, 4, 5, 6]], [[1]]]\n",
      "P4\n",
      "[[[0.0, 0.0, 0.0], [2.0, 2.5, 0.0], [0.0, 5.0, 0.0], [2.0, 2.5, 2.5]], [[1, 2, 3, 4]], [[1]]]\n"
     ]
    }
   ],
   "source": [
    "from pyplasm import *\n",
    "\n",
    "\n",
    "verts1 = [[0,0,0],[10,0,0],[2,2.5,0],[2,2.5,2.5],[8,2.5,2.5],[8,2.5,0]]\n",
    "cells1 = [[1,2,3,4,5,6]]\n",
    "pols1= None\n",
    "facciata1= MKPOL([verts1,cells1,pols1])\n",
    "\n",
    "verts2 = [[10,0,0],[8,2.5,2.5],[8,2.5,0],[10,5]]\n",
    "cells2 = [[1,2,3,4]]\n",
    "pols2= None\n",
    "facciata2= MKPOL([verts2,cells2,pols2])\n",
    "\n",
    "verts3 = [[0,5,0],[10,5,0],[2,2.5,0],[2,2.5,2.5],[8,2.5,2.5],[8,2.5,0]]\n",
    "cells3 = [[1,2,3,4,5,6]]\n",
    "pols3= None\n",
    "facciata3= MKPOL([verts3,cells3,pols3])\n",
    "\n",
    "verts4 = [[0,0,0],[2,2.5,0],[2,2.5,2.5],[0,5,0]]\n",
    "cells4 = [[1,2,3,4]]\n",
    "pols4= None\n",
    "facciata4= MKPOL([verts4,cells4,pols4])\n",
    "\n",
    "#function that takes 4 four sides of the roof created with mkpol and returns the full beams of the roof and facades\n",
    "\n",
    "def ggpl_my_roof_builder(f1,f2,f3,f4):\n",
    "\tresult=STRUCT([f1,f2,f3,f4])\n",
    "    \n",
    "    #give a depth to the roof skeleton\n",
    "\ttettoOF = OFFSET([.3,.3,.5])(SKEL_1(result))\n",
    "    \n",
    "    \n",
    "    #i create the facade extracting useful points\n",
    "    \n",
    "\t#facade1\n",
    "\tp1=UKPOL(f1)\n",
    "\tf1mod=[p1[0][0],p1[0][1],p1[0][3],p1[0][4]]\n",
    "\tprint(\"P1\")\n",
    "\tprint(p1)\n",
    "\tc1=[[1,2,3,4]]\n",
    "\tp1=None\n",
    "\tfa1=MKPOL([f1mod,c1,p1])\n",
    "\tfa1OF = OFFSET([.1,.1,.5])(fa1)\n",
    "\n",
    "\t#facade2\n",
    "\tp2=UKPOL(f2)\n",
    "\tf2mod=[p2[0][0],p2[0][1],p2[0][2]]\n",
    "\tprint(\"P2\")\n",
    "\tprint(p2)\n",
    "\tc2=[[1,2,3]]\n",
    "\tp2=None\n",
    "\tfa2=MKPOL([f2mod,c2,p2])\n",
    "\tfa2OF = OFFSET([.3,.2,.5])(fa2)\n",
    "\n",
    "\t#facade3\n",
    "\tp3=UKPOL(f3)\n",
    "\tf3mod=[p3[0][0],p3[0][1],p3[0][3],p3[0][4]]\n",
    "\tprint(\"P3\")\n",
    "\tprint(p3)\n",
    "\tc3=[[1,2,3,4]]\n",
    "\tp3=None\n",
    "\tfa3=MKPOL([f3mod,c3,p3])\n",
    "\tfa3OF = OFFSET([.3,.3,.5])(fa3)\n",
    "\n",
    "\t#facade4\n",
    "\tp4=UKPOL(f4)\n",
    "\tf4mod=[p4[0][0],p4[0][2],p4[0][3]]\n",
    "\tprint(\"P4\")\n",
    "\tprint(p4)\n",
    "\tc4=[[1,2,3]]\n",
    "\tp4=None\n",
    "\tfa4=MKPOL([f4mod,c4,p4])\n",
    "\tfa4OF = OFFSET([.3,.3,.5])(fa4)\n",
    "\n",
    "    #i create a structure with four facades and the offset of the roof skeleton\n",
    "    \n",
    "\troof = STRUCT([fa1OF,fa2OF,fa3OF,fa4OF,COLOR(RED)(tettoOF)])\n",
    "\n",
    "\treturn roof\n",
    "\n",
    "\n",
    "test = ggpl_my_roof_builder(facciata1,facciata2,facciata3,facciata4)\n",
    "VIEW(test)\n"
   ]
  },
  {
   "cell_type": "markdown",
   "metadata": {},
   "source": [
    "### First Result: "
   ]
  },
  {
   "cell_type": "markdown",
   "metadata": {},
   "source": [
    "![Caption Figura](r1.png)"
   ]
  },
  {
   "cell_type": "markdown",
   "metadata": {},
   "source": [
    "![Caption Figura](r2.png)"
   ]
  },
  {
   "cell_type": "markdown",
   "metadata": {},
   "source": [
    "![Caption Figura](r3.png)"
   ]
  },
  {
   "cell_type": "markdown",
   "metadata": {},
   "source": [
    "![Caption Figura](r4.png)"
   ]
  }
 ],
 "metadata": {
  "anaconda-cloud": {},
  "kernelspec": {
   "display_name": "Python [default]",
   "language": "python",
   "name": "python2"
  },
  "language_info": {
   "codemirror_mode": {
    "name": "ipython",
    "version": 2
   },
   "file_extension": ".py",
   "mimetype": "text/x-python",
   "name": "python",
   "nbconvert_exporter": "python",
   "pygments_lexer": "ipython2",
   "version": "2.7.12"
  }
 },
 "nbformat": 4,
 "nbformat_minor": 1
}
