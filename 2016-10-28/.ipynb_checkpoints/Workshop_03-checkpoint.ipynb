{
 "cells": [
  {
   "cell_type": "markdown",
   "metadata": {},
   "source": [
    "# Workshop 03 - Stair"
   ]
  },
  {
   "cell_type": "code",
   "execution_count": null,
   "metadata": {
    "collapsed": true
   },
   "outputs": [],
   "source": [
    "from pyplasm import *"
   ]
  },
  {
   "cell_type": "code",
   "execution_count": null,
   "metadata": {
    "collapsed": true
   },
   "outputs": [],
   "source": [
    "step1=T([2])([0])(CUBOID([2,0.4,1]))\n",
    "step2=T([2])([1])(CUBOID([2,0.4,1]))\n",
    "step3=T([2])([2])(CUBOID([2,0.4,1]))\n",
    "step4=T([2])([3])(CUBOID([2,0.4,1]))\n",
    "step5=T([2])([4])(CUBOID([2,0.4,1]))\n",
    "\n",
    "stairs=STRUCT([step1,step2,step3, step4, step5])\n",
    "\n",
    "VIEW(stairs)"
   ]
  }
 ],
 "metadata": {
  "anaconda-cloud": {},
  "kernelspec": {
   "display_name": "Python [default]",
   "language": "python",
   "name": "python2"
  },
  "language_info": {
   "codemirror_mode": {
    "name": "ipython",
    "version": 2
   },
   "file_extension": ".py",
   "mimetype": "text/x-python",
   "name": "python",
   "nbconvert_exporter": "python",
   "pygments_lexer": "ipython2",
   "version": "2.7.12"
  }
 },
 "nbformat": 4,
 "nbformat_minor": 1
}
