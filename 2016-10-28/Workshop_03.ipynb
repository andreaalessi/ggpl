{
 "cells": [
  {
   "cell_type": "markdown",
   "metadata": {},
   "source": [
    "# Workshop 03 - MyStair"
   ]
  },
  {
   "cell_type": "markdown",
   "metadata": {},
   "source": [
    "## Scala presa come modello in esempio"
   ]
  },
  {
   "cell_type": "markdown",
   "metadata": {},
   "source": [
    "![Caption Figura](scala-a-sbalzo-in-rovere.png)"
   ]
  },
  {
   "cell_type": "code",
   "execution_count": null,
   "metadata": {
    "collapsed": false
   },
   "outputs": [
    {
     "name": "stdout",
     "output_type": "stream",
     "text": [
      "Evaluating fenvs.py..\n",
      "...fenvs.py imported in 0.009337 seconds\n"
     ]
    }
   ],
   "source": [
    "from pyplasm import *"
   ]
  },
  {
   "cell_type": "code",
   "execution_count": null,
   "metadata": {
    "collapsed": false
   },
   "outputs": [],
   "source": [
    "def ggpl_myStair(dx,dy,dz):\n",
    "    \n",
    "#calcolo numero gradini, pedata e altezza gradino con i parametri presi in ingresso\n",
    "\n",
    "\taltStep = 0.15\n",
    "\tnumStep = int(dz/altStep)\n",
    "\tpedata=float(dy)/numStep\n",
    "    distanceStep = (0.63-pedata)/2\n",
    "\n",
    "\tstep1 = PROD([QUOTE([dx]),QUOTE([pedata])])\n",
    "\tstep = PROD([step1,QUOTE([altStep])])\n",
    "\tstair = QUOTE([0])\n",
    "\tdistY = 0\n",
    "\tdistZ = 0\n",
    "    \n",
    "#traslo ogni gradino sull'asse Y e sull'asse Z\n",
    "\n",
    "\tfor i in range(numStep):\n",
    "\t\tstair = STRUCT([stair,T([2,3])([distY,distZ])(step)])\n",
    "\t\tdistY=distY + pedata\n",
    "\t\tdistZ=distZ + altStep\n",
    "        \n",
    "#creo muro di ancoraggio per la scala\n",
    "\n",
    "\twall=PROD([PROD([QUOTE([0]),QUOTE([dy])]),QUOTE([dz])])\n",
    "\tstair= STRUCT([stair,wall])\n",
    "\treturn stair\n",
    "\n",
    "VIEW(ggpl_myStair(1,5,3))"
   ]
  },
  {
   "cell_type": "markdown",
   "metadata": {},
   "source": [
    "### Primo Risultato: "
   ]
  },
  {
   "cell_type": "markdown",
   "metadata": {},
   "source": [
    "![Caption Figura](scala.png)"
   ]
  },
  {
   "cell_type": "code",
   "execution_count": null,
   "metadata": {
    "collapsed": true
   },
   "outputs": [],
   "source": []
  }
 ],
 "metadata": {
  "anaconda-cloud": {},
  "kernelspec": {
   "display_name": "Python [default]",
   "language": "python",
   "name": "python2"
  },
  "language_info": {
   "codemirror_mode": {
    "name": "ipython",
    "version": 2
   },
   "file_extension": ".py",
   "mimetype": "text/x-python",
   "name": "python",
   "nbconvert_exporter": "python",
   "pygments_lexer": "ipython2",
   "version": "2.7.12"
  }
 },
 "nbformat": 4,
 "nbformat_minor": 1
}
