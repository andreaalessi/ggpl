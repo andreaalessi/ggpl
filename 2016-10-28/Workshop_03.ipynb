{
 "cells": [
  {
   "cell_type": "markdown",
   "metadata": {},
   "source": [
    "# Workshop 03 - MyStair"
   ]
  },
  {
   "cell_type": "markdown",
   "metadata": {},
   "source": [
    "## Scala presa come 1° modello "
   ]
  },
  {
   "cell_type": "markdown",
   "metadata": {},
   "source": [
    "![Caption Figura](scala-a-sbalzo-in-rovere.png)"
   ]
  },
  {
   "cell_type": "markdown",
   "metadata": {},
   "source": [
    "## Scala presa come 2° modello "
   ]
  },
  {
   "cell_type": "markdown",
   "metadata": {},
   "source": [
    "![Caption Figura](open-ustairs.jpg)"
   ]
  },
  {
   "cell_type": "code",
   "execution_count": null,
   "metadata": {
    "collapsed": false
   },
   "outputs": [
    {
     "name": "stdout",
     "output_type": "stream",
     "text": [
      "Evaluating fenvs.py..\n",
      "...fenvs.py imported in 0.010296 seconds\n"
     ]
    }
   ],
   "source": [
    "from pyplasm import *"
   ]
  },
  {
   "cell_type": "code",
   "execution_count": null,
   "metadata": {
    "collapsed": false
   },
   "outputs": [],
   "source": [
    "def ggpl_myStair(dx,dy,dz):\n",
    "    \n",
    "#calcolo numero gradini, pedata e altezza gradino con i parametri presi in ingresso\n",
    "\n",
    "\taltStep = 0.15\n",
    "\tnumStep = int(dz/altStep)\n",
    "\tpedata=float(dy)/numStep\n",
    "\n",
    "\n",
    "\tstep1 = PROD([QUOTE([dx]),QUOTE([pedata])])\n",
    "\tstep = PROD([step1,QUOTE([altStep])])\n",
    "\tstair = QUOTE([0])\n",
    "\tdistY = 0\n",
    "\tdistZ = 0\n",
    "    \n",
    "#traslo ogni gradino sull'asse Y e sull'asse Z\n",
    "\n",
    "\tfor i in range(numStep):\n",
    "\t\tstair = STRUCT([stair,T([2,3])([distY,distZ])(step)])\n",
    "\t\tdistY=distY + pedata\n",
    "\t\tdistZ=distZ + altStep\n",
    "        \n",
    "#creo muro di ancoraggio per la scala\n",
    "\n",
    "\twall=PROD([PROD([QUOTE([0]),QUOTE([dy])]),QUOTE([dz])])\n",
    "\tstair= STRUCT([stair,wall])\n",
    "\treturn stair\n",
    "\n",
    "VIEW(ggpl_myStair(1,5,3))"
   ]
  },
  {
   "cell_type": "markdown",
   "metadata": {},
   "source": [
    "### Primo Risultato: "
   ]
  },
  {
   "cell_type": "markdown",
   "metadata": {},
   "source": [
    "![Caption Figura](scala.png)"
   ]
  },
  {
   "cell_type": "markdown",
   "metadata": {},
   "source": [
    "### Funzione riferita al 2° modello"
   ]
  },
  {
   "cell_type": "code",
   "execution_count": null,
   "metadata": {
    "collapsed": false
   },
   "outputs": [
    {
     "name": "stdout",
     "output_type": "stream",
     "text": [
      "Evaluating fenvs.py..\n",
      "...fenvs.py imported in 0.005801 seconds\n"
     ]
    }
   ],
   "source": [
    "from pyplasm import *\n",
    "\n",
    "def ggpl_myStair2(dx,dy,dz):\n",
    "   \n",
    "    \"\"\"create the step\"\"\"\n",
    "    v = [[0,0],[0,0.5],[2,0.5],[1,0]]\n",
    "    p = [[1,2,3,4]]\n",
    "    stepX = MKPOL([v, p, 1])\n",
    "    step = PROD([QUOTE([3]),stepX])\n",
    "    \n",
    "\n",
    "    numStep = int(dx)\n",
    "    flightStairHeight = int(dz/2)\n",
    "   \n",
    "    \"\"\"move and add steps\"\"\"\n",
    "    flight1 = step\n",
    "    flight2 = step\n",
    "    for i in range(int(numStep)-3):\n",
    "        flight1 = STRUCT([flight1,T([2,3])([1,0.5]),flight1])\n",
    "        flight2 = STRUCT([flight2,T([2,3])([1,0.5]),flight2])\n",
    "\n",
    "    landing = CUBOID([dx,2,0.5])\n",
    "\n",
    "    \"\"\"flight with landing\"\"\"\n",
    "\n",
    "    flight1 = STRUCT([flight1,T([2,3])([(numStep-2),(numStep-2)*0.5]),landing])\n",
    "    flight2 = STRUCT([flight2,T([2,3])([(numStep-2),(numStep-2)*0.5]),landing])\n",
    "  \n",
    "    \"\"\"rotation flight2\"\"\"\n",
    "    flight2= R([1,2])(PI)(flight2)\n",
    "  \n",
    "    result = STRUCT([flight1,T([1,2,3])([dx,dy-1,(numStep-2)*0.5]),flight2])\n",
    "    return result\n",
    "    \n",
    "\n",
    "VIEW(ggpl_myStair2(10,10,3))\n"
   ]
  },
  {
   "cell_type": "markdown",
   "metadata": {},
   "source": [
    "### Secondo Risultato:"
   ]
  },
  {
   "cell_type": "markdown",
   "metadata": {},
   "source": [
    "![Caption Figura](stair21.png)"
   ]
  },
  {
   "cell_type": "markdown",
   "metadata": {},
   "source": [
    "![Caption Figura](stair22.png)"
   ]
  }
 ],
 "metadata": {
  "anaconda-cloud": {},
  "kernelspec": {
   "display_name": "Python [default]",
   "language": "python",
   "name": "python2"
  },
  "language_info": {
   "codemirror_mode": {
    "name": "ipython",
    "version": 2
   },
   "file_extension": ".py",
   "mimetype": "text/x-python",
   "name": "python",
   "nbconvert_exporter": "python",
   "pygments_lexer": "ipython2",
   "version": "2.7.12"
  }
 },
 "nbformat": 4,
 "nbformat_minor": 1
}
