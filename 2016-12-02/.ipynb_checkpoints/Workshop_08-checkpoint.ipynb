{
 "cells": [
  {
   "cell_type": "markdown",
   "metadata": {},
   "source": [
    "# My house modeling"
   ]
  },
  {
   "cell_type": "markdown",
   "metadata": {},
   "source": [
    "## Description:"
   ]
  },
  {
   "cell_type": "markdown",
   "metadata": {},
   "source": [
    "below the planimetry taken as a model, and divided into various layers through the .svg file. then i created with the function my solid model of the structure."
   ]
  },
  {
   "cell_type": "markdown",
   "metadata": {
    "collapsed": true
   },
   "source": [
    "## Planimetry:"
   ]
  },
  {
   "cell_type": "markdown",
   "metadata": {},
   "source": [
    "![Caption Figura](images/planimetry.jpg)"
   ]
  },
  {
   "cell_type": "markdown",
   "metadata": {},
   "source": [
    "## File .svg : "
   ]
  },
  {
   "cell_type": "markdown",
   "metadata": {
    "collapsed": true
   },
   "source": [
    "Various .vsg file, converted to .lines and used as .csv to create a solid model of the house"
   ]
  },
  {
   "cell_type": "markdown",
   "metadata": {},
   "source": [
    "### Perimeter: "
   ]
  },
  {
   "cell_type": "markdown",
   "metadata": {},
   "source": [
    "![Caption Figura](images/perimetro.png)"
   ]
  },
  {
   "cell_type": "markdown",
   "metadata": {},
   "source": [
    "### Internal Walls: "
   ]
  },
  {
   "cell_type": "markdown",
   "metadata": {},
   "source": [
    "![Caption Figura](images/muriInterni.png)"
   ]
  },
  {
   "cell_type": "markdown",
   "metadata": {},
   "source": [
    "### Doors:"
   ]
  },
  {
   "cell_type": "markdown",
   "metadata": {},
   "source": [
    "![Caption Figura](images/porte.png)"
   ]
  },
  {
   "cell_type": "markdown",
   "metadata": {},
   "source": [
    "###  Windows:"
   ]
  },
  {
   "cell_type": "markdown",
   "metadata": {},
   "source": [
    "![Caption Figura](images/finestre.png)"
   ]
  },
  {
   "cell_type": "markdown",
   "metadata": {
    "collapsed": true
   },
   "source": [
    "## Main Function: "
   ]
  },
  {
   "cell_type": "code",
   "execution_count": null,
   "metadata": {
    "collapsed": false
   },
   "outputs": [
    {
     "name": "stdout",
     "output_type": "stream",
     "text": [
      "Evaluating fenvs.py..\n",
      "...fenvs.py imported in 0.010477 seconds\n"
     ]
    }
   ],
   "source": [
    "from pyplasm import *\n",
    "import csv\n",
    "\n",
    "def svg2house():\n",
    "\n",
    "\twith open(\"perimetro.lines\", \"rb\") as csvFile:\n",
    "\t\treader = csv.reader(csvFile, delimiter=\",\")\n",
    "\t\tlistP = []\n",
    "\t\tfor row in reader:\n",
    "\t\t\tlistP.append(POLYLINE([[float(row[0]), float(row[1])],[float(row[2]), float(row[3])]]))\n",
    "\tp = STRUCT(listP)\n",
    "\tfloor = SOLIDIFY(p)\n",
    "\txf = 15/SIZE([1])(p)[0]\n",
    "\tyf = 15.1/SIZE([2])(p)[0]\n",
    "\tp = OFFSET([7,7])(p)\n",
    "\tp = PROD([p, Q(3/xf)])\n",
    "\n",
    "\twith open(\"muriInterni.lines\", \"rb\") as csvFile:\n",
    "\t\treader = csv.reader(csvFile, delimiter=\",\")\n",
    "\t\tlistIntWalls = []\n",
    "\t\tfor row in reader:\n",
    "\t\t\tlistIntWalls.append(POLYLINE([[float(row[0]), float(row[1])],[float(row[2]), float(row[3])]]))\n",
    "\tintWalls = STRUCT(listIntWalls)\n",
    "\tintWalls = OFFSET([4,4])(intWalls)\n",
    "\tintWalls = PROD([intWalls, Q(3/xf)])\n",
    "\n",
    "\twith open(\"porte.lines\", \"rb\") as csvFile:\n",
    "\t\treader = csv.reader(csvFile, delimiter=\",\")\n",
    "\t\tdoorsList = []\n",
    "\t\tcuboid = []\n",
    "\t\tcont = 0\n",
    "\t\tfor row in reader:\n",
    "\t\t\tcont = cont + 1\n",
    "\t\t\tcuboid.append([float(row[0]),float(row[1])])\n",
    "\t\t\tif(cont == 4):\n",
    "\t\t\t\tdoorsList.append(MKPOL([cuboid,[[1,2,3,4]],None]))\n",
    "\t\t\t\tcuboid = []\n",
    "\t\t\t\tcont = 0\n",
    "\tdoors = STRUCT(doorsList)\n",
    "\tdoors = PROD([doors, Q(2.5/xf)])\n",
    "\n",
    "\twith open(\"finestre.lines\", \"rb\") as csvFile:\n",
    "\t\treader = csv.reader(csvFile, delimiter=\",\")\n",
    "\t\twindowList = []\n",
    "\t\tcuboid = []\n",
    "\t\tcont = 0\n",
    "\t\tfor row in reader:\n",
    "\t\t\tcont = cont + 1\n",
    "\t\t\tcuboid.append([float(row[0]),float(row[1])])\n",
    "\t\t\tif(cont == 4):\n",
    "\t\t\t\twindowList.append(MKPOL([cuboid,[[1,2,3,4]],None]))\n",
    "\t\t\t\tcuboid = []\n",
    "\t\t\t\tcont = 0\n",
    "\n",
    "\twindows = STRUCT(windowList)\n",
    "\twindows = OFFSET([9,9])(windows)\n",
    "\twindows = PROD([windows, Q(SIZE([3])(p)[0]/2.)])\n",
    "\twindows = T(3)(SIZE([3])(p)[0]/4.)(windows)\n",
    "\n",
    "\thouse = STRUCT([p, intWalls])\n",
    "\thouse = DIFFERENCE([house, doors, windows])\n",
    "\n",
    "\thouse = (S([1,2,3])([xf,yf,xf])(house))\n",
    "\tfloor = (S([1,2,3])([xf,yf,xf])(floor))\n",
    "\n",
    "\t#apply texture for floor and walls\n",
    "\tfloor = TEXTURE(\"marmo.jpg\")(floor)\n",
    "\thouse = TEXTURE(\"cemento.jpg\")(house)\n",
    "\n",
    "\tVIEW(STRUCT([floor, house]))\n",
    "\n",
    "svg2house()\n"
   ]
  },
  {
   "cell_type": "markdown",
   "metadata": {
    "collapsed": true
   },
   "source": [
    "## Results: "
   ]
  },
  {
   "cell_type": "markdown",
   "metadata": {
    "collapsed": true
   },
   "source": [
    "![Caption Figura](images/output1.png)"
   ]
  },
  {
   "cell_type": "markdown",
   "metadata": {},
   "source": [
    "![Caption Figura](images/output2.png)"
   ]
  },
  {
   "cell_type": "markdown",
   "metadata": {},
   "source": [
    "![Caption Figura](images/output3.png)"
   ]
  },
  {
   "cell_type": "markdown",
   "metadata": {},
   "source": [
    "![Caption Figura](images/output4.png)"
   ]
  },
  {
   "cell_type": "code",
   "execution_count": null,
   "metadata": {
    "collapsed": true
   },
   "outputs": [],
   "source": []
  }
 ],
 "metadata": {
  "anaconda-cloud": {},
  "kernelspec": {
   "display_name": "Python [default]",
   "language": "python",
   "name": "python2"
  },
  "language_info": {
   "codemirror_mode": {
    "name": "ipython",
    "version": 2
   },
   "file_extension": ".py",
   "mimetype": "text/x-python",
   "name": "python",
   "nbconvert_exporter": "python",
   "pygments_lexer": "ipython2",
   "version": "2.7.12"
  }
 },
 "nbformat": 4,
 "nbformat_minor": 1
}
