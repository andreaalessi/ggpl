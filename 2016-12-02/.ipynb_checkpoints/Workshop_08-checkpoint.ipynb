{
 "cells": [
  {
   "cell_type": "markdown",
   "metadata": {},
   "source": [
    "# My house modeling"
   ]
  },
  {
   "cell_type": "markdown",
   "metadata": {},
   "source": [
    "## Description:"
   ]
  },
  {
   "cell_type": "markdown",
   "metadata": {},
   "source": [
    "below the planimetry taken as a model, and divided into various layers through the .svg file. then i created with the function my solid model of the structure."
   ]
  },
  {
   "cell_type": "markdown",
   "metadata": {
    "collapsed": true
   },
   "source": [
    "## Planimetry:"
   ]
  },
  {
   "cell_type": "markdown",
   "metadata": {},
   "source": [
    "![Caption Figura](planimetry.jpg)"
   ]
  },
  {
   "cell_type": "markdown",
   "metadata": {
    "collapsed": true
   },
   "source": [
    "## Main Function: "
   ]
  },
  {
   "cell_type": "code",
   "execution_count": null,
   "metadata": {
    "collapsed": true
   },
   "outputs": [],
   "source": [
    "from pyplasm import *\n",
    "import csv\n",
    "\n",
    "def ggpl_building_house():\n",
    "\n",
    "\twith open(\"perimetro.lines\", \"rb\") as csvFile:\n",
    "\t\treader = csv.reader(csvFile, delimiter=\",\")\n",
    "\t\tlistPerimeter = []\n",
    "\t\tfor row in reader:\n",
    "\t\t\tlistPerimeter.append(POLYLINE([[float(row[0]), float(row[1])],[float(row[2]), float(row[3])]]))\n",
    "\tperimeter = STRUCT(listPerimeter)\n",
    "\tfloor = SOLIDIFY(perimeter)\n",
    "\txfactor = 15/SIZE([1])(perimeter)[0]\n",
    "\tyfactor = 15.1/SIZE([2])(perimeter)[0]\n",
    "\tperimeter = OFFSET([7,7])(perimeter)\n",
    "\tperimeter = PROD([perimeter, Q(3/xfactor)])\n",
    "\n",
    "\twith open(\"muri_interni.lines\", \"rb\") as csvFile:\n",
    "\t\treader = csv.reader(csvFile, delimiter=\",\")\n",
    "\t\tlistInternalWalls = []\n",
    "\t\tfor row in reader:\n",
    "\t\t\tlistInternalWalls.append(POLYLINE([[float(row[0]), float(row[1])],[float(row[2]), float(row[3])]]))\n",
    "\tinternalWalls = STRUCT(listInternalWalls)\n",
    "\tinternalWalls = OFFSET([4,4])(internalWalls)\n",
    "\n",
    "\n",
    "\tinternalWalls = PROD([internalWalls, Q(3/xfactor)])\n",
    "\n",
    "\twith open(\"porte.lines\", \"rb\") as csvFile:\n",
    "\t\treader = csv.reader(csvFile, delimiter=\",\")\n",
    "\t\tdoorsList = []\n",
    "\t\tcuboid = []\n",
    "\t\tacc = 0\n",
    "\t\tfor row in reader:\n",
    "\t\t\tacc = acc + 1\n",
    "\t\t\tcuboid.append([float(row[0]),float(row[1])])\n",
    "\t\t\tif(acc == 4):\n",
    "\t\t\t\tdoorsList.append(MKPOL([cuboid,[[1,2,3,4]],None]))\n",
    "\t\t\t\tcuboid = []\n",
    "\t\t\t\tacc = 0\n",
    "\tdoors = STRUCT(doorsList)\n",
    "\tdoors = PROD([doors, Q(2.5/xfactor)])\n",
    "\n",
    "\twith open(\"finestre.lines\", \"rb\") as csvFile:\n",
    "\t\treader = csv.reader(csvFile, delimiter=\",\")\n",
    "\t\twindowList = []\n",
    "\t\tcuboid = []\n",
    "\t\tacc = 0\n",
    "\t\tfor row in reader:\n",
    "\t\t\tacc = acc + 1\n",
    "\t\t\tcuboid.append([float(row[0]),float(row[1])])\n",
    "\t\t\tif(acc == 4):\n",
    "\t\t\t\twindowList.append(MKPOL([cuboid,[[1,2,3,4]],None]))\n",
    "\t\t\t\tcuboid = []\n",
    "\t\t\t\tacc = 0\n",
    "\n",
    "\twindows = STRUCT(windowList)\n",
    "\twindows = OFFSET([9,9])(windows)\n",
    "\twindows = PROD([windows, Q(SIZE([3])(perimeter)[0]/2.)])\n",
    "\twindows = T(3)(SIZE([3])(perimeter)[0]/4.)(windows)\n",
    "\n",
    "\thouse = STRUCT([perimeter, internalWalls])\n",
    "\thouse = DIFFERENCE([house, doors, windows])\n",
    "\n",
    "\thouse = (S([1,2,3])([xfactor,yfactor, xfactor])(house))\n",
    "\tfloor = (S([1,2,3])([xfactor,yfactor, xfactor])(floor))\n",
    "\tfloor = TEXTURE(\"texture/parquetTexture.jpg\")(floor)\n",
    "\thouse = TEXTURE(\"texture/wallTexture.jpg\")(house)\n",
    "\n",
    "\tVIEW(STRUCT([floor, house]))"
   ]
  },
  {
   "cell_type": "markdown",
   "metadata": {},
   "source": []
  },
  {
   "cell_type": "code",
   "execution_count": null,
   "metadata": {
    "collapsed": true
   },
   "outputs": [],
   "source": []
  }
 ],
 "metadata": {
  "anaconda-cloud": {},
  "kernelspec": {
   "display_name": "Python [default]",
   "language": "python",
   "name": "python2"
  },
  "language_info": {
   "codemirror_mode": {
    "name": "ipython",
    "version": 2
   },
   "file_extension": ".py",
   "mimetype": "text/x-python",
   "name": "python",
   "nbconvert_exporter": "python",
   "pygments_lexer": "ipython2",
   "version": "2.7.12"
  }
 },
 "nbformat": 4,
 "nbformat_minor": 1
}
