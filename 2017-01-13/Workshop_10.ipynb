{
 "cells": [
  {
   "cell_type": "markdown",
   "metadata": {},
   "source": [
    "# Workshop 10 : Design of parametric multistorey house"
   ]
  },
  {
   "cell_type": "markdown",
   "metadata": {},
   "source": [
    "### Description : "
   ]
  },
  {
   "cell_type": "markdown",
   "metadata": {},
   "source": [
    "In this workshop will be taken up with the necessary previous workshop changes, in particular the workshop_03 modified to achieve a parametric spiral staircase, the workshop_07 in which sizes and shapes of windows and doors were changed, the workshop_08 expanded for the construction of new spaces , and the workshop_09 for creating a parametric roof. the union of these workshops will help in getting a house on two levels with outdoor courtyard, entrance doors and internal doors, windows and a staircase to connect the two floors. the previous .svg files were used with their .lines file, to which the new files to the new spaces were added. the whole is called from a main function \"MultistoreyHouse ()\", which loads the various workshops and starts the auxiliary functions."
   ]
  },
  {
   "cell_type": "markdown",
   "metadata": {},
   "source": [
    "### Model workshop 8 - Planimetry"
   ]
  },
  {
   "cell_type": "markdown",
   "metadata": {
    "collapsed": true
   },
   "source": [
    "![Caption Figura](images/planimetry.jpg)"
   ]
  },
  {
   "cell_type": "markdown",
   "metadata": {},
   "source": [
    "#### The floor plan of the house has been taken in full and added in the living area a staircase to access the upper floor created."
   ]
  },
  {
   "cell_type": "markdown",
   "metadata": {},
   "source": [
    "### Code modified workshop 8"
   ]
  },
  {
   "cell_type": "code",
   "execution_count": null,
   "metadata": {
    "collapsed": false
   },
   "outputs": [],
   "source": [
    "import csv\n",
    "from pyplasm import *\n",
    "from hw import workshop3\n",
    "from hw import workshop7\n",
    "from hw import workshop9\n",
    "\n",
    "def svg2house(extWalls,intWall,windows,intDoors,extDoors,intDoors2floor,windows2floor,cortile,holeStair):\n",
    "\n",
    "\tdef svg2houseWindows(Xw,Yw,Zw,occupancyw):\n",
    "\n",
    "\t\tdef svg2houseDoors(Xd,Yd,Zd,occupancyd):\n",
    "\n",
    "\t# backyard with green\n",
    "\t\n",
    "\t\t\twith open(\"lines/cortile.lines\", \"rb\") as csvfile:\n",
    "\t\t\t\tcsvReader = csv.reader(csvfile,delimiter=\",\")\n",
    "\t\t\t\tcortileList = []\n",
    "\t\t\t\tfor row in csvReader :\n",
    "\t\t\t\t\tcortileList.append(POLYLINE([[float(row[0]),float(row[1])],[float(row[2]),float(row[3])]]))\n",
    "\t\t\tcortile = STRUCT(cortileList)\n",
    "\t\t\txVal = 16/SIZE([1])(cortile)[0]\n",
    "\t\t\tyVal = 16/SIZE([2])(cortile)[0]\n",
    "   \t    \t\tcortile = S([1,2])([xVal,yVal/2])(cortile)\n",
    "   \t    \t\tcortile = T([1,2])([-6,-25])(cortile)\n",
    "\t\t\t\n",
    "\t\t\tprato = SOLIDIFY (cortile)\n",
    "\t\t\tprato = TEXTURE(\"texture/prato.jpg\")(prato)\n",
    "\t\t\n",
    "\t\t\tcortile = OFFSET([.3,.3])(cortile)\n",
    "\t\t\tcortile = PROD([cortile,Q(.5)])\n",
    "\t\t\tcortile = TEXTURE(\"texture/muro.jpg\")(cortile)\n",
    "\t\t\n",
    "\t\t\t#external walls with intDoors2floor\t\t\t\t\t\n",
    "\n",
    "\t\t\twith open(\"lines/muriEsterni.lines\", \"rb\") as csvfile:\n",
    "\t\t\t\tcsvReader = csv.reader(csvfile,delimiter=\",\")\n",
    "\t\t\t\textWallsList = []\n",
    "\t\t\t\tfor row in csvReader :\n",
    "\t\t\t\t\textWallsList.append(POLYLINE([[float(row[0]),float(row[1])],[float(row[2]),float(row[3])]]))\n",
    "\t\t\textWalls = STRUCT(extWallsList)\n",
    "\t\t\txVal = 16/SIZE([1])(extWalls)[0]\n",
    "\t\t\tyVal = 16/SIZE([2])(extWalls)[0]\n",
    "\t\t\textWalls = S([1,2])([xVal,yVal])(extWalls)\n",
    "\t\t\t\n",
    "\t\t\tfloor = SOLIDIFY (extWalls)\n",
    "\t\t\tfloor= PROD([floor,Q(.07)])\n",
    "\t\t\tfloor = TEXTURE(\"texture/parquet.jpg\")(floor)\n",
    "\t\t\tsecondFloor= T(3)(3.5)(floor)\t\n",
    "\n",
    "\n",
    "\t\t\textWalls = OFFSET([.3,.3])(extWalls)\n",
    "\t\t\textlWallsH = PROD([extWalls,Q(3.5)])\n",
    "\n",
    "\t\t\t#create roof with hw9\n",
    "\t\t\troof = workshop9.createRoof(\"tetto\")\n",
    "\t\t\troof = T([1,2])([float(row[0]),float(row[1])])(roof)\n",
    "\t\t\troof = S([1,2])([xVal,yVal])(roof)\n",
    "\t\t\troof = TEXTURE(\"texture/tegole.jpg\")(roof)\t\n",
    "\n",
    "\t\t\t#internal walls \n",
    "\t\t\twith open(\"lines/muriInterni.lines\", \"rb\") as csvfile:\n",
    "\t\t\t\tcsvReader = csv.reader(csvfile,delimiter=\",\")\n",
    "\t\t\t\tintWallsList = []\n",
    "\t\t\t\tfor row in csvReader :\n",
    "\t\t\t\t\tintWallsList.append(POLYLINE([[float(row[0]),float(row[1])],[float(row[2]),float(row[3])]]))\n",
    "\t\t\tintWalls = STRUCT(intWallsList)\n",
    "\t\t\tintWalls = S([1,2])([xVal,yVal])(intWalls)\n",
    "\t\t\tintWalls = OFFSET([.2,.2])(intWalls)\n",
    "\t\t\tintWalls = PROD([intWalls,Q(3)])\n",
    "\t\t\t\t\n",
    "\n",
    "\t\t\t#windows \n",
    "\n",
    "\t\t\twith open(\"lines/finestre.lines\", \"rb\") as csvfile:\n",
    "\t\t\t\tcsvReader = csv.reader(csvfile,delimiter=\",\")\n",
    "\t\t\t\twindowsHolesList = []\n",
    "\t\t\t\twindowsCompList = []\n",
    "\t\t\t\tcList = []\n",
    "\t\t\t\tcont = 0\n",
    "\t\t\t\tfor row in csvReader:\n",
    "\t\t\t\t\tcont += 1\n",
    "\t\t\t\t\tcList.append([float(row[0])*xVal,float(row[1])*yVal])\n",
    "\t\t\t\t\tif cont <=2:\n",
    "\t\t\t\t\t\tif \tround(float(row[0]),1) == round(float(row[2]),1):\n",
    "\t\t\t\t\t\t\tyDifference = abs(float(row[3]) - float(row[1]))\n",
    "\t\t\t\t\t\telif round(float(row[1]),1) == round(float(row[3]),1):\n",
    "\t\t\t\t\t\t\txDifference = abs(float(row[2]) - float(row[0]))\n",
    "\t\t\t\t\tif cont == 4:\n",
    "\t\t\t\t\t\twindowsHolesList.append(MKPOL([cList,[[1,2,3,4]],None]))\n",
    "\t\t\t\t\t\tbase = MKPOL([cList,[[1,2,3,4]],None])\n",
    "\t\t\t\t\t\tbase = OFFSET([.1,.1])(base)\n",
    "\t\t\t\t\t\tbase = PROD([base,Q(1.5)])\n",
    "\t\t\t\t\t\tcList = []\n",
    "\t\t\t\t\t\tcont = 0\n",
    "\t\t\t\t\t\tif xDifference < yDifference:\n",
    "\t\t\t\t\t\t\twindow = workshop7.window(Xw,Yw,Zw,occupancyw)(yDifference*yVal+.7,1,.6)\n",
    "\t\t\t\t\t\t\twindow = R([1,2])(3*PI/2)(window)\n",
    "\t\t\t\t\t\t\twindow = T([1,2,3])([float(row[0])*xVal+.7, float(row[1])*yVal,1])(window)\n",
    "\t\t\t\t\t\telse:\n",
    "\t\t\t\t\t\t\twindow = workshop7.window(Xw,Yw,Zw,occupancyw)(xDifference*xVal+.4,1,.6)\n",
    "\t\t\t\t\t\t\twindow = T([1,2,3])([float(row[0])*xVal, float(row[1])*yVal-.2,1])(window)\n",
    "\t\t\t\t\t\n",
    "\t\t\t\t\t\twindowsCompList.append(window)\n",
    "\n",
    "\t\t\twindows = STRUCT(windowsHolesList)\n",
    "\t\t\twindows = OFFSET([0.05,0.05])(windows)\n",
    "\t\t\twindows = PROD([windows,Q(1.5)])\n",
    "\t\t\twindows = T(3)(1)(windows)\n",
    "\t\t\twindowsComp = STRUCT(windowsCompList)\n",
    "\n",
    "\t\t\t#windows 2nd floor\n",
    "\t\t\t#changed the svg file and its .lines so as to add windows on the second floor\n",
    "\n",
    "\t\t\twith open(\"lines/finestreSecondo.lines\", \"rb\") as csvfile:\n",
    "\t\t\t\tcsvReader = csv.reader(csvfile,delimiter=\",\")\n",
    "\t\t\t\twindows2FloorHolesList = []\n",
    "\t\t\t\twindows2FloorCompList = []\n",
    "\t\t\t\tcList = []\n",
    "\t\t\t\tcont = 0\n",
    "\t\t\t\tfor row in csvReader:\n",
    "\t\t\t\t\tcont += 1\n",
    "\t\t\t\t\tcList.append([float(row[0])*xVal,float(row[1])*yVal])\n",
    "\t\t\t\t\tif cont <=2:\n",
    "\t\t\t\t\t\tif \tround(float(row[0]),1) == round(float(row[2]),1):\n",
    "\t\t\t\t\t\t\tyDifference = abs(float(row[3]) - float(row[1]))\n",
    "\t\t\t\t\t\telif round(float(row[1]),1) == round(float(row[3]),1):\n",
    "\t\t\t\t\t\t\txDifference = abs(float(row[2]) - float(row[0]))\n",
    "\t\t\t\t\tif cont == 4:\n",
    "\t\t\t\t\t\twindows2FloorHolesList.append(MKPOL([cList,[[1,2,3,4]],None]))\n",
    "\t\t\t\t\t\tbase = MKPOL([cList,[[1,2,3,4]],None])\n",
    "\t\t\t\t\t\tbase = OFFSET([.1,.1])(base)\n",
    "\t\t\t\t\t\tbase = PROD([base,Q(1.5)])\n",
    "\t\t\t\t\t\tcList = []\n",
    "\t\t\t\t\t\tcont = 0\n",
    "\t\t\t\t\t\tif xDifference < yDifference:\n",
    "\t\t\t\t\t\t\twindow2Floor = workshop7.window(Xw,Yw,Zw,occupancyw)(yDifference*yVal+.7,1,.6)\n",
    "\t\t\t\t\t\t\twindow2Floor = R([1,2])(3*PI/2)(window2Floor)\n",
    "\t\t\t\t\t\t\twindow2Floor = T([1,2,3])([float(row[0])*xVal+.7, float(row[1])*yVal,1])(window2Floor)\n",
    "\t\t\t\t\t\telse:\n",
    "\t\t\t\t\t\t\twindow2Floor = workshop7.window(Xw,Yw,Zw,occupancyw)(xDifference*xVal+.4,1,.6)\n",
    "\t\t\t\t\t\t\twindow2Floor = T([1,2,3])([float(row[0])*xVal, float(row[1])*yVal-.2,1])(window2Floor)\n",
    "\t\t\t\t\t\t\n",
    "\t\t\t\t\t\twindows2FloorCompList.append(window2Floor)\t\n",
    "\n",
    "\t\t\twindows2Floor = STRUCT(windows2FloorHolesList)\n",
    "\t\t\twindows2Floor = OFFSET([0.05,0.05])(windows2Floor)\n",
    "\t\t\twindows2Floor = PROD([windows2Floor,Q(1.5)])\n",
    "\t\t\twindows2Floor = T(3)(1)(windows2Floor)\n",
    "\t\t\twindows2Comp = STRUCT(windows2FloorCompList)\t\n",
    "\n",
    "\t\t\t#doors \n",
    "\n",
    "\t\t\twith open(\"lines/porte.lines\", \"rb\") as csvfile:\t\t\n",
    "\n",
    "\t\t\t\tcsvReader = csv.reader(csvfile,delimiter=\",\")\n",
    "\t\t\t\tintDoorsHolesList = []\n",
    "\t\t\t\tcList = []\n",
    "\t\t\t\tcont = 0\n",
    "\t\t\t\txDoors = 0\n",
    "\t\t\t\tyDifference = 0\n",
    "\t\t\t\tintDoorsCompList = []\n",
    "\t\t\t\tfor row in csvReader:\n",
    "\t\t\t\t\tcont += 1\n",
    "\t\t\t\t\tcList.append([float(row[0])*xVal,float(row[1])*yVal])\n",
    "\t\t\t\t\tif cont <=2:\n",
    "\t\t\t\t\t\tif \tround(float(row[0]),1) == round(float(row[2]),1):\n",
    "\t\t\t\t\t\t\tyDifference = abs(float(row[3]) - float(row[1]))\n",
    "\t\t\t\t\t\t\n",
    "\t\t\t\t\t\telif round(float(row[1]),1) == round(float(row[3]),1):\n",
    "\t\t\t\t\t\t\txDifference = abs(float(row[2]) - float(row[0]))\t\n",
    "\n",
    "\t\t\t\t\tif cont == 4:\n",
    "\t\t\t\t\t\tintDoorsHolesList.append(MKPOL([cList,[[1,2,3,4]],None]))\n",
    "\t\t\t\t\t\tcList = []\n",
    "\t\t\t\t\t\tdoor = []\n",
    "\t\t\t\t\t\tcont = 0\n",
    "\t\t\t\t\t\tif xDifference < yDifference:\n",
    "\t\t\t\t\t\t\tdoor = workshop7.door(Xd,Yd,Zd,occupancyd)(yDifference*yVal+.2,.7,1.1)\n",
    "\t\t\t\t\t\t\tdoor = T([2])([.4])(door)\n",
    "\t\t\t\t\t\t\tdoor = R([1,2])(3*PI/2)(door)\n",
    "\t\t\t\t\t\t\tdoor = T([1,2])([float(row[0])*xVal+.2,float(row[1])*yVal+.1])(door)\n",
    "\t\t\t\t\t\telse:\n",
    "\t\t\t\t\t\t\tdoor = workshop7.door(Xd,Yd,Zd,occupancyd)(xDifference*xVal+.2,.7,1.1)\n",
    "\t\t\t\t\t\t\tdoor = T([1,2])([float(row[0])*xVal+.1,(float(row[1])*yVal)-.2])(door)\n",
    "\t\t\t\t\t\tintDoorsCompList.append(door)\t\n",
    "\n",
    "\t\t\tintDoorsHoles = STRUCT(intDoorsHolesList)\n",
    "\t\t\tintDoorsHoles = OFFSET([.2,.15])(intDoorsHoles)\n",
    "\t\t\tintDoorsHoles = PROD([intDoorsHoles,Q(3)])\n",
    "\t\t\tintDoorsComp = STRUCT(intDoorsCompList)\t\n",
    "\n",
    "\t\t\t#external doors\n",
    "\n",
    "\t\t\twith open(\"lines/porteEsterne.lines\",\"rb\") as csvfile:\n",
    "\t\t\t\tcsvReader = csv.reader(csvfile, delimiter=\",\")\n",
    "\t\t\t\textDoorsHolesList = []\n",
    "\t\t\t\tcList = []\n",
    "\t\t\t\tcont = 0\n",
    "\t\t\t\txDifference = 0\n",
    "\t\t\t\tyDifference = 0\n",
    "\t\t\t\textDoorsCompList = []\n",
    "\t\t\t\tfor row in csvReader:\n",
    "\t\t\t\t\tcont += 1\n",
    "\t\t\t\t\tcList.append([float(row[0]) * xVal, float(row[1]) * yVal])\n",
    "\t\t\t\t\tif cont <= 2:\n",
    "\t\t\t\t\t\tif round(float(row[0]), 1) == round(float(row[2]), 1):\n",
    "\t\t\t\t\t\t\tyDifference = abs(float(row[3]) - float(row[1]))\n",
    "\t\t\t\t\t\telif round(float(row[1]), 1) == round(float(row[3]), 1):\n",
    "\t\t\t\t\t\t\txDifference = abs(float(row[2]) - float(row[0]))\n",
    "\t\t\t\t\tif cont == 4:\n",
    "\t\t\t\t\t\textDoorsHolesList.append(MKPOL([cList, [[1, 2, 3, 4]], None]))\n",
    "\t\t\t\t\t\tcList = []\n",
    "\t\t\t\t\t\tdoor = []\n",
    "\t\t\t\t\t\tcont = 0\n",
    "\t\t\t\t\t\tif xDifference < yDifference:\n",
    "\t\t\t\t\t\t\tdoor = workshop7.door(Xd,Yd,Zd ,occupancyd)(yDifference * yVal+.2, 2.8,1.2)\n",
    "\t\t\t\t\t\t\tdoor = R([1, 2])(PI/2)(door)\n",
    "\t\t\t\t\t\t\tdoor = T([1, 2])([float(row[0]) * xVal+.25, (float(row[1]) * yVal)-2.3])(door)\n",
    "\t\t\t\t\t\telse:\n",
    "\t\t\t\t\t\t\tdoor = workshop7.door(Xd,Yd,Zd ,occupancyd)(xDifference * xVal, 2.5,1.2)\n",
    "\t\t\t\t\t\t\tdoor = T([1, 2])([float(row[0]) * xVal, float(row[1]) * yVal])(door)\n",
    "\t\t\t\t\t\textDoorsCompList.append(door)\n",
    "\t\t\t\t\n",
    "\t\t\textDoorsHoles = STRUCT(extDoorsHolesList)\n",
    "\t\t\textDoorsHoles = OFFSET([0,.15])(extDoorsHoles)\n",
    "\t\t\textDoorsHoles = PROD([extDoorsHoles,Q(2.5)])\n",
    "\t\t\textDoorsComp = STRUCT(extDoorsCompList)\t\n",
    "\t\t\t\n",
    "\t\t\t#doors 2nd floor\n",
    "\n",
    "\t\t\twith open(\"lines/porteSecondo.lines\", \"rb\") as csvfile:\n",
    "\t\t\t\tcsvReader = csv.reader(csvfile,delimiter=\",\")\n",
    "\t\t\t\tintDoors2HolesList = []\n",
    "\t\t\t\tcList = []\n",
    "\t\t\t\tcont = 0\n",
    "\t\t\t\tyDifference = 0\n",
    "\t\t\t\tintDoorsSecondCompList = []\n",
    "\t\t\t\tfor row in csvReader:\n",
    "\t\t\t\t\tcont += 1\n",
    "\t\t\t\t\tcList.append([float(row[0])*xVal,float(row[1])*yVal])\n",
    "\t\t\t\t\tif cont <=2:\n",
    "\t\t\t\t\t\tif \tround(float(row[0]),1) == round(float(row[2]),1):\n",
    "\t\t\t\t\t\t\tyDifference = abs(float(row[3]) - float(row[1]))\n",
    "\t\t\t\t\t\n",
    "\t\t\t\t\t\telif round(float(row[1]),1) == round(float(row[3]),1):\n",
    "\t\t\t\t\t\t\txDifference = abs(float(row[2]) - float(row[0]))\n",
    "\n",
    "\t\t\t\t\tif cont == 4:\n",
    "\t\t\t\t\t\tintDoors2HolesList.append(MKPOL([cList,[[1,2,3,4]],None]))\n",
    "\t\t\t\t\t\tcList = []\n",
    "\t\t\t\t\t\tdoor2Floor = []\n",
    "\t\t\t\t\t\tcont = 0\n",
    "\t\t\t\t\t\tif xDifference < yDifference:\n",
    "\t\t\t\t\t\t\tdoor2Floor = workshop7.door(Xd,Yd,Zd,occupancyd)(yDifference*yVal+.2,.7,1)\n",
    "\t\t\t\t\t\t\tdoor2Floor = T([2])([.4])(door2Floor)\n",
    "\t\t\t\t\t\t\tdoor2Floor = R([1,2])(3*PI/2)(door2Floor)\n",
    "\t\t\t\t\t\t\tdoor2Floor = T([1,2])([float(row[0])*xVal+.2,float(row[1])*yVal+.1])(door2Floor)\n",
    "\t\t\t\t\t\telse:\n",
    "\t\t\t\t\t\t\tdoor2Floor = workshop7.door(Xd,Yd,Zd,occupancyd)(xDifference*xVal+.2,.7,1)\n",
    "\t\t\t\t\t\t\tdoor2Floor = T([1,2])([float(row[0])*xVal+.1,(float(row[1])*yVal)-.2])(door2Floor)\n",
    "\t\t\t\t\t\tintDoorsSecondCompList.append(door2Floor)\t\n",
    "\n",
    "\t\t\tintDoorsSecondHoles = STRUCT(intDoors2HolesList)\n",
    "\t\t\tintDoorsSecondHoles = OFFSET([.2,.15])(intDoorsSecondHoles)\n",
    "\t\t\tintDoorsSecondHoles = PROD([intDoorsSecondHoles,Q(3)])\n",
    "\t\t\tintDoorsSecondComp = STRUCT(intDoorsSecondCompList)\t\n",
    "\n",
    "\t\t\t#spiral staircase\n",
    "\t\t\t#I modified the HW3 to create a spiral parametric scale put in the house\n",
    "\n",
    "\t\t\twith open(\"lines/holeStair.lines\", \"rb\") as csvfile:\n",
    "\t\t\t\tcsvReader = csv.reader(csvfile,delimiter=\",\")\n",
    "\t\t\t\tstairList = []\n",
    "\t\t\t\tfor row in csvReader :\n",
    "\t\t\t\t\tstairList.append(POLYLINE([[float(row[0]),float(row[1])],[float(row[2]),float(row[3])]]))\n",
    "\t\t\tstair = STRUCT(stairList)\n",
    "\t\t\txVal = 2/SIZE([1])(stair)[0]\n",
    "\t\t\tyVal = 2/SIZE([2])(stair)[0]\n",
    "\t\t\tstair = S([1,2])([xVal,yVal])(stair)\n",
    "\t\t\tscala = workshop3.createLadder(4.,.20,.04)\n",
    "\t\t\tscala = T([1,2])([9,6])(scala)\n",
    "\t\t\thole = SOLIDIFY (stair)\n",
    "\t\t\thole = PROD([hole,Q(.1)])\n",
    "\t\t\thole = T([1,2,3])([-.5,1,3.5])(hole)\n",
    "\t\t\t\n",
    "\t\t\t#final assembly\t\n",
    "\n",
    "\t\t\textWalls = DIFFERENCE([extlWallsH,windows])\n",
    "\t\t\textWalls = DIFFERENCE([extWalls,extDoorsHoles])\n",
    "\t\t\textWalls = TEXTURE(\"texture/muro.jpg\")(extWalls)\n",
    "\t\t\textWalls = STRUCT([extWalls,windowsComp])\n",
    "\t\t\textWalls = STRUCT([extWalls, extDoorsComp])\n",
    "\n",
    "\t\t\textWallsSecondFloor = DIFFERENCE([extlWallsH,windows])\n",
    "\t\t\textWallsSecondFloor = TEXTURE(\"texture/muro.jpg\")(extWallsSecondFloor)\n",
    "\t\t\textWallsSecondFloor = STRUCT([extWallsSecondFloor,windows2Comp])\n",
    "\n",
    "\t\t\tintWalls = DIFFERENCE([intWalls,intDoorsHoles])\n",
    "\t\t\tintWalls = TEXTURE(\"texture/workshop_10_texture_muro_interno.jpg\")(intWalls)\n",
    "\t\t\tintWallsSecondFloor = STRUCT([intWalls,intDoorsSecondComp])\n",
    "\t\t\tintWalls = STRUCT([intWalls,intDoorsComp])\n",
    "\n",
    "\t\t\twalls = STRUCT([intWalls,extWalls])\n",
    "\t\t\twallsSecondFloor = STRUCT([intWallsSecondFloor,extWallsSecondFloor])\n",
    "\n",
    "\t\t\troofHole= DIFFERENCE([secondFloor,hole])\n",
    "\t\t\troofHole = TEXTURE(\"texture/parquet.jpg\")(roofHole)\n",
    "\t\t\thouse = STRUCT([walls,floor,prato,cortile,roofHole,scala])\n",
    "\n",
    "\t\t\thouseSecondFloor = STRUCT([wallsSecondFloor,secondFloor])\n",
    "\t\t\thouseFinished = STRUCT([house,T(3)(3.5)(houseSecondFloor)])\n",
    "\n",
    "\t\t\t#VIEW(houseFinished) #house without roof\n",
    "\n",
    "\t\t\tfinishedHouseRoof = STRUCT([houseFinished,T(3)(7),roof])\n",
    "\n",
    "\t\t\treturn finishedHouseRoof\n",
    "\n",
    "\t\treturn svg2houseDoors\n",
    "\n",
    "\treturn svg2houseWindows"
   ]
  },
  {
   "cell_type": "markdown",
   "metadata": {},
   "source": [
    "### Main Function - workshop 10  - multistorey house"
   ]
  },
  {
   "cell_type": "code",
   "execution_count": null,
   "metadata": {
    "collapsed": true
   },
   "outputs": [],
   "source": [
    "\n",
    "from larlib import *\n",
    "\n",
    "from hw import workshop8\n",
    "\n",
    "def MultistoreyHouse():\n",
    "\n",
    "\textWalls = \"lines/muriEsterni.lines\"\n",
    "\tintWalls = \"lines/muriInterni.lines\"\n",
    "\twindows = \"lines/finestre.lines\"\n",
    "\tintDoors = \"lines/porte.lines\"\n",
    "\tintDoors2floor = \"lines/porteSecondo.lines\"\n",
    "\textDoors = \"lines/porteEsterne.lines\"\n",
    "\tcortile = \"lines/cortile.lines\"\n",
    "\twindows2floor = \"lines/finestreSecondo.lines\"\n",
    "\tholeStair = \"lines/holeStair.lines\"\n",
    "\n",
    "\t#window parameters\n",
    "\t#I changed the hw7 changing measures and style\n",
    "\tXw = [.15,.03,.02,.39,.02,.03,.15]\n",
    "\tYw = [.3,.1]\n",
    "\tZw = [.15,.3,1.62,.3,.15]\n",
    "\toccupancyw = [[1,1,1,1,1,1,1],\n",
    "\t\t\t\t[1,0,1,0,1,0,1],\t\t\t\n",
    "\t\t\t\t[1,0,1,0,1,0,1],\n",
    "\t\t\t\t[1,0,1,0,1,0,1],\n",
    "\t\t\t\t[1,1,1,1,1,1,1]]\n",
    "\n",
    "\t#door parameters\n",
    "\t#I changed the hw7 changing measures and style\n",
    "\tXd = [.08,.001,.15,.2,.15,.2,.15,.08]\n",
    "\tYd = [.15,.1]\n",
    "\tZd = [.2,.2,.02,.40,.02,.15,.15,.02,.4,.02,.15,.25,.02,.2,.02,.1]\n",
    "\toccupancyd = [[0,0,1,1,1,1,1,0],\n",
    "        \t    [0,1,1,0,1,0,1,0],\n",
    "        \t    [0,1,1,0,1,0,1,0],\n",
    "        \t    [0,1,1,0,1,0,1,0],\n",
    "        \t    [0,1,1,1,1,1,1,0],\n",
    "        \t    [0,1,1,1,1,1,1,0],\n",
    "        \t    [0,1,1,0,1,0,1,0],\n",
    "        \t    [0,1,1,0,1,0,1,0],\n",
    "        \t    [0,1,1,0,1,0,1,0],\n",
    "        \t    [0,1,1,0,1,0,1,0],\n",
    "        \t    [0,1,1,1,1,1,1,0],\n",
    "        \t    [0,1,1,0,1,0,1,0],\n",
    "        \t    [0,1,1,0,1,0,1,0],\n",
    "        \t    [0,1,1,1,1,1,1,0],\n",
    "        \t    [0,1,1,1,1,1,1,0],\n",
    "        \t    [0,1,0,0,0,0,0,0]]\n",
    "\n",
    "\tVIEW(workshop8.svg2house(extWalls,intWalls,windows,intDoors,extDoors,\n",
    "\t\t\t\t\t\t\tintDoors2floor,windows2floor,cortile,holeStair)(Xw,Yw,Zw,occupancyw)(Xd,Yd,Zd,occupancyd))\n",
    "\n",
    "def main():\n",
    "\tMultistoreyHouse()\n",
    "\n",
    "if __name__ == '__main__':\n",
    "\tmain()"
   ]
  },
  {
   "cell_type": "markdown",
   "metadata": {},
   "source": [
    "# Results"
   ]
  },
  {
   "cell_type": "markdown",
   "metadata": {},
   "source": [
    "## Exterior of the house"
   ]
  },
  {
   "cell_type": "markdown",
   "metadata": {},
   "source": [
    "![Caption Figura](images/img1.jpg)"
   ]
  },
  {
   "cell_type": "markdown",
   "metadata": {},
   "source": [
    "![Caption Figura](images/img2.jpg)"
   ]
  },
  {
   "cell_type": "markdown",
   "metadata": {},
   "source": [
    "![Caption Figura](images/img5.jpg)"
   ]
  },
  {
   "cell_type": "markdown",
   "metadata": {},
   "source": [
    "![Caption Figura](images/img7.jpg)"
   ]
  },
  {
   "cell_type": "markdown",
   "metadata": {},
   "source": [
    "![Caption Figura](images/img27.jpg)"
   ]
  },
  {
   "cell_type": "markdown",
   "metadata": {},
   "source": [
    "![Caption Figura](images/img29.jpg)"
   ]
  },
  {
   "cell_type": "markdown",
   "metadata": {},
   "source": [
    "![Caption Figura](images/img12.jpg)"
   ]
  },
  {
   "cell_type": "markdown",
   "metadata": {},
   "source": [
    "![Caption Figura](images/img13.jpg)"
   ]
  },
  {
   "cell_type": "markdown",
   "metadata": {},
   "source": [
    "## Interior of the house"
   ]
  },
  {
   "cell_type": "markdown",
   "metadata": {},
   "source": [
    "![Caption Figura](images/img9.jpg)"
   ]
  },
  {
   "cell_type": "markdown",
   "metadata": {},
   "source": [
    "![Caption Figura](images/img10.jpg)"
   ]
  },
  {
   "cell_type": "markdown",
   "metadata": {},
   "source": [
    "![Caption Figura](images/img20.jpg)"
   ]
  },
  {
   "cell_type": "markdown",
   "metadata": {},
   "source": [
    "![Caption Figura](images/img21.jpg)"
   ]
  },
  {
   "cell_type": "markdown",
   "metadata": {},
   "source": [
    "![Caption Figura](images/img22.jpg)"
   ]
  },
  {
   "cell_type": "code",
   "execution_count": null,
   "metadata": {
    "collapsed": true
   },
   "outputs": [],
   "source": []
  },
  {
   "cell_type": "code",
   "execution_count": null,
   "metadata": {
    "collapsed": true
   },
   "outputs": [],
   "source": []
  }
 ],
 "metadata": {
  "anaconda-cloud": {},
  "kernelspec": {
   "display_name": "Python [conda root]",
   "language": "python",
   "name": "conda-root-py"
  },
  "language_info": {
   "codemirror_mode": {
    "name": "ipython",
    "version": 2
   },
   "file_extension": ".py",
   "mimetype": "text/x-python",
   "name": "python",
   "nbconvert_exporter": "python",
   "pygments_lexer": "ipython2",
   "version": "2.7.12"
  }
 },
 "nbformat": 4,
 "nbformat_minor": 1
}
