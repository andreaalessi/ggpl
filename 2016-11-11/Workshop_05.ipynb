{
 "cells": [
  {
   "cell_type": "markdown",
   "metadata": {},
   "source": [
    "# Class Furniture"
   ]
  },
  {
   "cell_type": "markdown",
   "metadata": {},
   "source": [
    "## Description Workshop 5:"
   ]
  },
  {
   "cell_type": "markdown",
   "metadata": {},
   "source": [
    "In this workshop, it will be taken as a typical school classroom model with inside a chair, school desks, chairs and a blackboard. to arrive at the expected result different functions have been implemented each to represent an object of the overall model. the whole thing was then joined by the STRUCT and appropriate translations."
   ]
  },
  {
   "cell_type": "markdown",
   "metadata": {},
   "source": [
    "## Model which I took as an example: "
   ]
  },
  {
   "cell_type": "markdown",
   "metadata": {},
   "source": [
    "![Caption Figura](classroom.jpg)"
   ]
  },
  {
   "cell_type": "markdown",
   "metadata": {},
   "source": [
    "## Blackboard:"
   ]
  },
  {
   "cell_type": "markdown",
   "metadata": {},
   "source": [
    "![Caption Figura](blackboard1.jpg)"
   ]
  },
  {
   "cell_type": "markdown",
   "metadata": {},
   "source": [
    "## Teacher's Desk:"
   ]
  },
  {
   "cell_type": "markdown",
   "metadata": {},
   "source": [
    "![Caption Figura](desk.jpg)"
   ]
  },
  {
   "cell_type": "markdown",
   "metadata": {},
   "source": [
    "## Student's Desk:"
   ]
  },
  {
   "cell_type": "markdown",
   "metadata": {},
   "source": [
    "![Caption Figura](bench.jpg)"
   ]
  },
  {
   "cell_type": "markdown",
   "metadata": {},
   "source": [
    "## Chair:"
   ]
  },
  {
   "cell_type": "markdown",
   "metadata": {},
   "source": [
    "![Caption Figura](chair.jpg)"
   ]
  },
  {
   "cell_type": "markdown",
   "metadata": {},
   "source": [
    "## Code:"
   ]
  },
  {
   "cell_type": "code",
   "execution_count": null,
   "metadata": {
    "collapsed": true
   },
   "outputs": [],
   "source": [
    "#import Libraries\n",
    "from pyplasm import *\n",
    "from larlib import *\n",
    "\n",
    "#define colors\n",
    "BROWN = Color4f([0.85, 0.50, 0, 1.0])\n",
    "LIGHTBROWN = Color4f([1.4,.8, 0, 0])\n",
    "BLUE = Color4f([.45,.55, 1.2, 0])\n",
    "\n",
    "#this function define a blackboard\n",
    "def ggpl_blackboard(dx,dy,dz):\n",
    "    blackboard=CUBOID([dx,dy,dz])\n",
    "    blackboardColor=COLOR(BLACK)(blackboard)\n",
    "    skel=SKEL_1(blackboardColor)\n",
    "    skel=OFFSET([.1,.05,.1])(skel)\n",
    "    skelColor=COLOR(BROWN)(skel)\n",
    "    blackboardFinal=STRUCT([blackboardColor,skelColor])\n",
    "    return blackboardFinal\n",
    "\n",
    "#test=ggpl_blackboard(5,.1,3)\n",
    "#VIEW(test)\n",
    "\n",
    "#this function define a chair\n",
    "def ggpl_chair(dx,dy,dz):\n",
    "\n",
    "\tseat = CUBOID([dx,dy,dz/10])\n",
    "\tseat = COLOR(BROWN)(seat)\n",
    "\tleg1= COLOR(BLACK)(CUBOID([dx/20,dy/20,dz]))\n",
    "\tleg2= COLOR(BLACK)(CUBOID([dx/20,dy/20,dz/2]))\n",
    "\tt = COLOR(BLACK)(CUBOID([dx,dy/20,dz/20]))\n",
    "\tt1 = COLOR(BLACK)(CUBOID([dx/20,dy,dz/20]))\n",
    "\ts = COLOR(BROWN)(CUBOID([dx/20,dy,dz/5]))\n",
    "\n",
    "\tchair=STRUCT([T(3)(dz/2.5)(seat),\n",
    "\t\tT(3)(dz/2.5)(t),\n",
    "\t\tT(3)(dz/2.5)(t1),\n",
    "\t\tT([1,3])([(dx-(dx/20)),dz/2.5])(t1),\n",
    "\t\tT([2,3])([dy-(dy/20),dz/2.5])(t),\n",
    "\t\tleg1,\n",
    "\t\tT(2)(dy-(dy/20))(leg1),\n",
    "\t\tT(1)(dx-(dx/20))(leg2),\n",
    "\t\tT([1,2])([dx-(dx/20),dy-(dy/20)])(leg2),\n",
    "\t\tT(3)(dz-(dz/5))(s)])\n",
    "\n",
    "\treturn chair\n",
    "\n",
    "\n",
    "#test1=ggpl_chair(.6,.6,1.1)\n",
    "#VIEW(test1)\n",
    "\n",
    "#this function define a student bench\n",
    "def ggpl_bench(dx,dy,dz):\n",
    "\n",
    "    #I defined floor and legs of the bench and joined them with the appropriate translations by STRUCT\n",
    "\tfloor = COLOR(BROWN)(CUBOID([dx,dy,dz/20]))\n",
    "\tleg = CYLINDER([.03,dz-.01])(1000)\n",
    "\n",
    "\tucO = CUBOID([dx-.2,dy-.2,.009])\n",
    "\tucV = CUBOID([.009,dy-.2,.1])\n",
    "\tucV2 = CUBOID([dx-.2,.009,.1]) \n",
    "\tuc = STRUCT([T([1,2,3])([.1,.08,dz-(dz/6)])(ucO),\n",
    "\t\tT([1,2,3])([.1,.08,dz-(dz/6)])(ucV),\n",
    "\t\tT([1,2,3])([dx-.1,.08,dz-(dz/6)])(ucV),\n",
    "\t\tT([1,2,3])([.1,dy-.13,dz-(dz/6)])(ucV2)]) #moving with twice as many values\n",
    "\n",
    "\tbench = STRUCT([T(3)(dz-(dz/20.0))(floor),\n",
    "\t\tT([1,2])([0.05,0.04])(leg),\n",
    "\t\tT([1,2])([dx-0.04,0.05])(leg),\n",
    "\t\tT([1,2])([0.05,dy-0.04])(leg),\n",
    "\t\tT([1,2])([dx-0.05,dy-0.04])(leg),uc])\n",
    "\n",
    "\n",
    "\treturn bench\n",
    "\n",
    "#test2=ggpl_bench(1.5,.8,.9)\n",
    "#VIEW(test2)\n",
    "\n",
    "#this function define a teacher desk\n",
    "def ggpl_desk(dx,dy,dz):\n",
    "\n",
    "    #I defined floor and legs of the desk and joined them with the appropriate translations by STRUCT\n",
    "\tfloor = COLOR(BROWN)(CUBOID([dx,dy,dz/20]))\n",
    "\tleg = CYLINDER([.03,dz-.01])(1000)\n",
    "\n",
    "\tlV = COLOR(LIGHTBROWN)(CUBOID([.009,dy-.1,.3]))\n",
    "\tlV2 = COLOR(LIGHTBROWN)(CUBOID([dx-.1,.009,.3]))\n",
    "\tdrawer = COLOR(BROWN)(CUBOID([dx/4,dy-0.5,dz/2.5]))\n",
    "\tl = STRUCT([\n",
    "\t\tT([1,2,3])([.05,.08,dz-.35])(lV),\n",
    "\t\tT([1,2,3])([dx-0.05,.08,dz-.35])(lV),\n",
    "\t\tT([1,2,3])([.08,dy-0.05,dz-.35])(lV2),\n",
    "\t\tT([1,2,3])([dx/2+dx/4-.1,0.05,dz-.35])(drawer)\n",
    "\t\t]) \n",
    "\n",
    "\tdesk = STRUCT([T(3)(dz-(dz/20.0))(floor),\n",
    "\t\tT([1,2])([0.05,0.04])(leg),\n",
    "\t\tT([1,2])([dx-0.04,0.05])(leg),\n",
    "\t\tT([1,2])([0.05,dy-0.04])(leg),\n",
    "\t\tT([1,2])([dx-0.05,dy-0.04])(leg),l])\n",
    "\n",
    "\n",
    "\treturn desk\n",
    "\n",
    "#test3=ggpl_desk(2,.9,.8)\n",
    "#VIEW(test3)\n",
    "\n",
    "#this function define a classroom with all elements\n",
    "def ggpl_classroom(dx,dy,dz):\n",
    " \n",
    "    #extract the skel_1 class\n",
    "\troom=CUBOID([dx,dy,dz])\n",
    "\troom=SKEL_1(room)\n",
    "\n",
    "    #take the individual walls\n",
    "\tvertsF = [[0,0,0],[7,0,0],[7,10,0],[0,10,0]]\n",
    "\tcellsF = [[1,2,3,4]]\n",
    "\tpolsF = None\n",
    "\tfloor = COLOR(BLUE)(MKPOL([vertsF,cellsF,polsF]))\n",
    "\n",
    "\tvertsP1 = [[0,0,0],[0,10,0],[0,0,3],[0,10,3]]\n",
    "\tcellsP1 = [[1,2,3,4]]\n",
    "\tpolsP1 = None\n",
    "\tp1 = COLOR(LIGHTBROWN)(MKPOL([vertsP1,cellsP1,polsP1]))\n",
    "\n",
    "\tvertsP2 = [[0,0,0],[0,0,3],[7,0,3],[7,0,0]]\n",
    "\tcellsP2 = [[1,2,3,4]]\n",
    "\tpolsP2 = None\n",
    "\tp2 = COLOR(LIGHTBROWN)(MKPOL([vertsP2,cellsP2,polsP2]))\n",
    "\n",
    "\tvertsP3 = [[7,10,0],[7,10,3],[7,0,3],[7,0,0]]\n",
    "\tcellsP3 = [[1,2,3,4]]\n",
    "\tpolsP3 = None\n",
    "\tp3 = COLOR(LIGHTBROWN)(MKPOL([vertsP3,cellsP3,polsP3]))\n",
    "\n",
    "\tvertsP4 = [[7,10,0],[7,10,3],[0,10,3],[0,10,0]]\n",
    "\tcellsP4 = [[1,2,3,4]]\n",
    "\tpolsP4 = None\n",
    "\tp4 = COLOR(LIGHTBROWN)(MKPOL([vertsP4,cellsP4,polsP4]))\n",
    "    \n",
    "    \n",
    "    #I put the items in the classroom\n",
    "    \n",
    "\tblackboard=ggpl_blackboard(dx/2,.02,dz/2.5)\n",
    "\tblackboard=STRUCT([T([1,3])([dx/2.0-(dx/2.5)/2,dz/3.0]),blackboard])\n",
    "    \n",
    "    #I enter the professor's desk and chair\n",
    "\tdesk=ggpl_desk(dx/2.5,dy/10.0,dz/4.0)\n",
    "\tdesk=STRUCT([T([1,2])([dx/2.0-(dx/2.5)/2,.5]),desk])\n",
    "\tdeskChair=ggpl_chair(dx/17.5,dy/25.0,dz/3.0)\n",
    "\tdeskChair=STRUCT([R([1,2])(PI/2),deskChair])\n",
    "\tdeskChair=STRUCT([T([1,2])([dx/2.0-(dx/6)/2,.2]),deskChair])\n",
    "\n",
    "\tchair=ggpl_chair(dx/15.0,dy/25.0,dz/3.0)\n",
    "\tchair=STRUCT([R([1,2])(PI/2),chair])\n",
    "\tchair=STRUCT([T([1,2])([dx/1.9,.2]),chair])\n",
    "\n",
    "\tbench=ggpl_bench(dx/4.0,dy/15.0,dz/4.0)\n",
    "\tbench=STRUCT([R([1,2])(PI),bench])\n",
    "\tbench=STRUCT([T([1,2])([2,dy/7.0+1])(bench)])\n",
    "\n",
    "\tseat1=ggpl_chair(dx/17.5,dy/25.0,dz/3.0)\n",
    "\tseat1=STRUCT([R([1,2])(-PI/2),seat1])\n",
    "\tseat1=STRUCT([T([1,2])([dx/8+0.50,dy/7.0+1.3]),seat1])\n",
    "\n",
    "\tseat2=ggpl_chair(dx/17.5,dy/25.0,dz/3.0)\n",
    "\tseat2=STRUCT([R([1,2])(-PI/2),seat2])\n",
    "\tseat2=STRUCT([T([1,2])([dx/8+1.3,dy/7.0+1.3]),seat2])\n",
    "\n",
    "    #in the first line I insert three banks each with two chairs\n",
    "\tstudent11=STRUCT([bench,seat1,seat2])\n",
    "\tstudent12=STRUCT([T(1)(dx/2.9),student11])\n",
    "\tstudent13=STRUCT([T(1)(dx/2.9),student12])\n",
    "\n",
    "    #It creates four lines equal to the first line model\n",
    "\tfirstLine=STRUCT([student11,student12,student13])   \n",
    "\tsecondLine=STRUCT([T(2)((dy-1)/4.0),firstLine])\n",
    "\tthirdLine=STRUCT([T(2)((dy-1)/4.0),secondLine])\n",
    "\tfourthLine=STRUCT([T(2)((dy-1)/4.0),thirdLine])\n",
    "    \n",
    "  \n",
    "\tVIEW(STRUCT([room,blackboard,bench,firstLine,secondLine,thirdLine,fourthLine,floor,desk,deskChair]))\n",
    "    \n",
    "#launch the function with classroom sizes (7,10,3)\n",
    "ggpl_classroom(7,10,3)\n"
   ]
  },
  {
   "cell_type": "markdown",
   "metadata": {},
   "source": [
    "## Results:"
   ]
  },
  {
   "cell_type": "markdown",
   "metadata": {},
   "source": [
    "### Blackboard"
   ]
  },
  {
   "cell_type": "markdown",
   "metadata": {},
   "source": [
    "![Caption Figura](p9.png)"
   ]
  },
  {
   "cell_type": "markdown",
   "metadata": {},
   "source": [
    "### Student Desk"
   ]
  },
  {
   "cell_type": "markdown",
   "metadata": {},
   "source": [
    "![Caption Figura](p2.png)"
   ]
  },
  {
   "cell_type": "markdown",
   "metadata": {},
   "source": [
    "![Caption Figura](p5.png)"
   ]
  },
  {
   "cell_type": "markdown",
   "metadata": {},
   "source": [
    "### Teacher Desk"
   ]
  },
  {
   "cell_type": "markdown",
   "metadata": {},
   "source": [
    "![Caption Figura](p8.png)"
   ]
  },
  {
   "cell_type": "markdown",
   "metadata": {},
   "source": [
    "### Chair"
   ]
  },
  {
   "cell_type": "markdown",
   "metadata": {},
   "source": [
    "![Caption Figura](p13.png)"
   ]
  },
  {
   "cell_type": "markdown",
   "metadata": {},
   "source": [
    "### Classroom"
   ]
  },
  {
   "cell_type": "markdown",
   "metadata": {},
   "source": [
    "![Caption Figura](p10.png)"
   ]
  },
  {
   "cell_type": "markdown",
   "metadata": {},
   "source": [
    "![Caption Figura](p7.png)"
   ]
  },
  {
   "cell_type": "markdown",
   "metadata": {},
   "source": [
    "![Caption Figura](p3.png)"
   ]
  },
  {
   "cell_type": "markdown",
   "metadata": {},
   "source": [
    "![Caption Figura](p12.png)"
   ]
  },
  {
   "cell_type": "markdown",
   "metadata": {},
   "source": [
    "![Caption Figura](p14.png)"
   ]
  },
  {
   "cell_type": "markdown",
   "metadata": {},
   "source": [
    "![Caption Figura](p16.png)"
   ]
  },
  {
   "cell_type": "markdown",
   "metadata": {},
   "source": [
    "![Caption Figura](pf.png)"
   ]
  },
  {
   "cell_type": "code",
   "execution_count": null,
   "metadata": {
    "collapsed": true
   },
   "outputs": [],
   "source": []
  }
 ],
 "metadata": {
  "anaconda-cloud": {},
  "kernelspec": {
   "display_name": "Python [default]",
   "language": "python",
   "name": "python2"
  },
  "language_info": {
   "codemirror_mode": {
    "name": "ipython",
    "version": 2
   },
   "file_extension": ".py",
   "mimetype": "text/x-python",
   "name": "python",
   "nbconvert_exporter": "python",
   "pygments_lexer": "ipython2",
   "version": "2.7.12"
  }
 },
 "nbformat": 4,
 "nbformat_minor": 1
}
