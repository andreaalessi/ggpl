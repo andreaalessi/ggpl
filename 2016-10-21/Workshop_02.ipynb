{
 "cells": [
  {
   "cell_type": "markdown",
   "metadata": {
    "collapsed": true
   },
   "source": [
    "# Workshop_02 2016-10-21 "
   ]
  },
  {
   "cell_type": "markdown",
   "metadata": {},
   "source": [
    "### Link della struttura presa in riferimento: http://www.domuseco.it/2/wp-content/uploads/2014/05/14-14-01.jpg"
   ]
  },
  {
   "cell_type": "markdown",
   "metadata": {},
   "source": [
    "Telaio del workshop_1, modificato aggiungendo travi orizzontali"
   ]
  },
  {
   "cell_type": "code",
   "execution_count": 1,
   "metadata": {
    "collapsed": false
   },
   "outputs": [
    {
     "name": "stdout",
     "output_type": "stream",
     "text": [
      "Evaluating fenvs.py..\n",
      "...fenvs.py imported in 0.006263 seconds\n"
     ]
    }
   ],
   "source": [
    "%run structure.py"
   ]
  },
  {
   "cell_type": "markdown",
   "metadata": {},
   "source": [
    "### Importo Librerie"
   ]
  },
  {
   "cell_type": "code",
   "execution_count": 2,
   "metadata": {
    "collapsed": false
   },
   "outputs": [],
   "source": [
    "from pyplasm import *"
   ]
  },
  {
   "cell_type": "markdown",
   "metadata": {},
   "source": [
    "### Funzioni per passare i parametri"
   ]
  },
  {
   "cell_type": "code",
   "execution_count": 3,
   "metadata": {
    "collapsed": false
   },
   "outputs": [],
   "source": [
    "def element_list(lista):\n",
    "    if len(lista)==1:\n",
    "        return [T(i+1)(lista[0][i]) for i in range(len(lista[0]))]\n",
    "    else:\n",
    "        return [structureT(lista[0], lista[1], lista[2][0], lista[3][0], lista[4][0],lista[5][0])]\n",
    "        \n",
    "\n",
    "def read_lines(lineList):\n",
    "\tcells = lineList.split(';')\n",
    "\tfinal = []\n",
    "\tfor element in cells:\n",
    "\t\tfinal.append([float(num) for num in element.split(',')])\n",
    "\treturn final"
   ]
  },
  {
   "cell_type": "markdown",
   "metadata": {},
   "source": [
    "### Funzione principale con lettura file .csv"
   ]
  },
  {
   "cell_type": "code",
   "execution_count": 4,
   "metadata": {
    "collapsed": true
   },
   "outputs": [],
   "source": [
    "def ggpl_bone_structure(file_name):\n",
    "    list =[]\n",
    "    with open (file_name) as f:\n",
    "\t\tfor line in f.readlines():\n",
    "\t\t\tlist.extend(element_list(read_lines(line)))\n",
    "\t\tframes = STRUCT(list)\n",
    "    return frames"
   ]
  },
  {
   "cell_type": "code",
   "execution_count": null,
   "metadata": {
    "collapsed": false
   },
   "outputs": [],
   "source": [
    "VIEW(ggpl_bone_structure('frame_data_443391.csv'))"
   ]
  },
  {
   "cell_type": "markdown",
   "metadata": {
    "collapsed": true
   },
   "source": [
    "### Risultato Finale"
   ]
  },
  {
   "cell_type": "markdown",
   "metadata": {},
   "source": [
    "![Caption Figura](struttura_cemento_armato.png)"
   ]
  },
  {
   "cell_type": "code",
   "execution_count": null,
   "metadata": {
    "collapsed": true
   },
   "outputs": [],
   "source": []
  }
 ],
 "metadata": {
  "anaconda-cloud": {},
  "kernelspec": {
   "display_name": "Python [default]",
   "language": "python",
   "name": "python2"
  },
  "language_info": {
   "codemirror_mode": {
    "name": "ipython",
    "version": 2
   },
   "file_extension": ".py",
   "mimetype": "text/x-python",
   "name": "python",
   "nbconvert_exporter": "python",
   "pygments_lexer": "ipython2",
   "version": "2.7.12"
  }
 },
 "nbformat": 4,
 "nbformat_minor": 1
}
