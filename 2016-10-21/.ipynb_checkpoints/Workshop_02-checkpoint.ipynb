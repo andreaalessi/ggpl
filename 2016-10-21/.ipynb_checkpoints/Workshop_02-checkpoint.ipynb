{
 "cells": [
  {
   "cell_type": "markdown",
   "metadata": {
    "collapsed": true
   },
   "source": [
    "# Workshop_02 2016-10-21 "
   ]
  },
  {
   "cell_type": "markdown",
   "metadata": {},
   "source": [
    "Librerie Importate:"
   ]
  },
  {
   "cell_type": "code",
   "execution_count": 16,
   "metadata": {
    "collapsed": false
   },
   "outputs": [],
   "source": [
    "from pyplasm import*\n",
    "import csv\n",
    "from plain_frame import*"
   ]
  },
  {
   "cell_type": "markdown",
   "metadata": {
    "collapsed": true
   },
   "source": [
    "## Function plain_frame:"
   ]
  },
  {
   "cell_type": "code",
   "execution_count": 17,
   "metadata": {
    "collapsed": true
   },
   "outputs": [],
   "source": [
    "def draw(beamSection,pillarSection,distPillar,interstoryHeight):\n",
    "    px = pillarSection[0]\n",
    "    py = pillarSection[1]\n",
    "    bx = beamSection[0]\n",
    "    bz = beamSection[1]\n",
    "    xPillar = []\n",
    "    yPillar = []\n",
    "    zPillar = []\n",
    "    xBeam = []\n",
    "    yBeam = []\n",
    "    zBeam = [] \n",
    "    distance = 0  #distance between pillars\n",
    "    \"\"\"Build pillars\"\"\"\n",
    "    for i in distPillar:\n",
    "        xPillar = [px]\n",
    "        yPillar = yPillar + [py,-i]\n",
    "        distance = distance + i + py   \n",
    "    yPillar = yPillar + [py]\n",
    "\n",
    "    \"\"\"Build beams\"\"\"\n",
    "    for i in interstoryHeight:\n",
    "        zPillar = zPillar + [i,-bz] \n",
    "        xBeam = [bx]\n",
    "        yBeam = [distance+py]\n",
    "        zBeam = zBeam + [-i,bz]\n",
    "\n",
    "    pilTemp = PROD([QUOTE(xPillar),QUOTE(yPillar)])\n",
    "    pillar = PROD([pilTemp,QUOTE(zPillar)])\n",
    "    traTemp = PROD([QUOTE(xBeam),QUOTE(yBeam)])\n",
    "    beam = PROD([traTemp,QUOTE(zBeam)])\n",
    "\n",
    "    model = STRUCT([pillar,beam])\n",
    "    return model"
   ]
  },
  {
   "cell_type": "markdown",
   "metadata": {},
   "source": [
    "funzione crea travi orizzontali"
   ]
  },
  {
   "cell_type": "code",
   "execution_count": 18,
   "metadata": {
    "collapsed": true
   },
   "outputs": [],
   "source": [
    "def drawOrizzontalBeam(bx,bz,px,py,distPillar,interstoryHeight):\n",
    "    xBeamOrizz = [bx]\n",
    "    yBeamOrizz = []\n",
    "    zBeamOrizz = []\n",
    "    \n",
    "    for i in interstoryHeight:\n",
    "        zBeamOrizz = zBeamOrizz + [-i,bz]\n",
    "    for i in distPillar:\n",
    "        yBeamOrizz = yBeamOrizz + [py,-i]\n",
    "    yBeamOrizz = yBeamOrizz + [py]\n",
    "    traOrizzTemp = PROD([QUOTE(xBeamOrizz),QUOTE(yBeamOrizz)])\n",
    "    beamOrizz = PROD([traOrizzTemp,QUOTE(zBeamOrizz)])\n",
    "\n",
    "    model = STRUCT([beamOrizz])\n",
    "    return model"
   ]
  },
  {
   "cell_type": "markdown",
   "metadata": {},
   "source": [
    "funzione che legge file csv"
   ]
  },
  {
   "cell_type": "code",
   "execution_count": 19,
   "metadata": {
    "collapsed": true
   },
   "outputs": [],
   "source": [
    "def ggpl_bone_structure(fileName):\n",
    "    x = []\n",
    "    y = []\n",
    "    z = []\n",
    "    frames = []\n",
    "    transactions = []\n",
    "    orizzontalBeam = []\n",
    "    structure = []\n",
    "    structure2 = []\n",
    "    Vx=0\n",
    "    \n",
    "    with open(fileName,'rU') as csvfile:\n",
    "        reader = csv.DictReader(csvfile)\n",
    "        cont = 2 #contatore righe\n",
    "        for row in reader:\n",
    "            if(cont%2 != 0): #riga dispari\n",
    "                beamSection = row['x'].replace(\"(\",\"\").replace(\")\",\"\").split(\";\")\n",
    "                pillarSection = row['y'].replace(\"(\",\"\").replace(\")\",\"\").split(\";\")\n",
    "                beamSectionX = eval(beamSection[0])\n",
    "                beamSectionZ = eval(beamSection[1])\n",
    "                pillarSectionX = eval(pillarSection[0])\n",
    "                pillarSectionY = eval(pillarSection[1])\n",
    "                                         \n",
    "                distPillar = []\n",
    "                for elem in row['z'].replace(\"[\",\"\").replace(\"]\",\"\").split(\";\"):\n",
    "                    distPillar.append(eval(elem))\n",
    "                \n",
    "                interstoryHeight = []\n",
    "                for elem in row['k'].replace(\"[\",\"\").replace(\"]\",\"\").split(\";\"):\n",
    "                    interstoryHeight.append(eval(elem))\n",
    "                \n",
    "                orizzontalBeam.append(drawOrizzontalBeam(Vx,beamSectionZ,pillarSectionX,pillarSectionY,distPillar,interstoryHeight))                                                             \n",
    "                frames.append(draw((beamSectionX,beamSectionZ),(pillarSectionX,pillarSectionY),distPillar,interstoryHeight))\n",
    "                \n",
    "            if(cont%2 == 0): #riga pari\n",
    "                Vx = x = eval(row['x'])\n",
    "                y = eval(row['y'])\n",
    "                z = eval(row['z'])\n",
    "                transactions.append(T([1,2,3])([x,y,z]))\n",
    "               \n",
    "            cont = cont+1\n",
    "            \n",
    "    i = 0\n",
    "    for elem in frames:\n",
    "        structure.append(transactions[i])\n",
    "        structure.append(frames[i])\n",
    "        if(i+1 < len(frames)):\n",
    "            structure2.append(transactions[i])\n",
    "            structure2.append(orizzontalBeam[i+1])\n",
    "        i = i+1\n",
    "        \n",
    "    view1 = STRUCT(structure)\n",
    "    view2 = STRUCT(structure2)\n",
    "    VIEW(STRUCT([view1,view2]))"
   ]
  },
  {
   "cell_type": "code",
   "execution_count": 20,
   "metadata": {
    "collapsed": false
   },
   "outputs": [
    {
     "ename": "TypeError",
     "evalue": "draw() takes exactly 5 arguments (4 given)",
     "output_type": "error",
     "traceback": [
      "\u001b[0;31m---------------------------------------------------------------------------\u001b[0m",
      "\u001b[0;31mTypeError\u001b[0m                                 Traceback (most recent call last)",
      "\u001b[0;32m<ipython-input-20-bfc170472d5b>\u001b[0m in \u001b[0;36m<module>\u001b[0;34m()\u001b[0m\n\u001b[0;32m----> 1\u001b[0;31m \u001b[0mggpl_bone_structure\u001b[0m\u001b[0;34m(\u001b[0m\u001b[0;34m\"frame_date_443391.csv\"\u001b[0m\u001b[0;34m)\u001b[0m\u001b[0;34m\u001b[0m\u001b[0m\n\u001b[0m",
      "\u001b[0;32m<ipython-input-19-9957cce2a45f>\u001b[0m in \u001b[0;36mggpl_bone_structure\u001b[0;34m(fileName)\u001b[0m\n\u001b[1;32m     31\u001b[0m \u001b[0;34m\u001b[0m\u001b[0m\n\u001b[1;32m     32\u001b[0m                 \u001b[0morizzontalBeam\u001b[0m\u001b[0;34m.\u001b[0m\u001b[0mappend\u001b[0m\u001b[0;34m(\u001b[0m\u001b[0mdrawOrizzontalBeam\u001b[0m\u001b[0;34m(\u001b[0m\u001b[0mVx\u001b[0m\u001b[0;34m,\u001b[0m\u001b[0mbeamSectionZ\u001b[0m\u001b[0;34m,\u001b[0m\u001b[0mpillarSectionX\u001b[0m\u001b[0;34m,\u001b[0m\u001b[0mpillarSectionY\u001b[0m\u001b[0;34m,\u001b[0m\u001b[0mdistPillar\u001b[0m\u001b[0;34m,\u001b[0m\u001b[0minterstoryHeight\u001b[0m\u001b[0;34m)\u001b[0m\u001b[0;34m)\u001b[0m\u001b[0;34m\u001b[0m\u001b[0m\n\u001b[0;32m---> 33\u001b[0;31m                 \u001b[0mframes\u001b[0m\u001b[0;34m.\u001b[0m\u001b[0mappend\u001b[0m\u001b[0;34m(\u001b[0m\u001b[0mdraw\u001b[0m\u001b[0;34m(\u001b[0m\u001b[0;34m(\u001b[0m\u001b[0mbeamSectionX\u001b[0m\u001b[0;34m,\u001b[0m\u001b[0mbeamSectionZ\u001b[0m\u001b[0;34m)\u001b[0m\u001b[0;34m,\u001b[0m\u001b[0;34m(\u001b[0m\u001b[0mpillarSectionX\u001b[0m\u001b[0;34m,\u001b[0m\u001b[0mpillarSectionY\u001b[0m\u001b[0;34m)\u001b[0m\u001b[0;34m,\u001b[0m\u001b[0mdistPillar\u001b[0m\u001b[0;34m,\u001b[0m\u001b[0minterstoryHeight\u001b[0m\u001b[0;34m)\u001b[0m\u001b[0;34m)\u001b[0m\u001b[0;34m\u001b[0m\u001b[0m\n\u001b[0m\u001b[1;32m     34\u001b[0m \u001b[0;34m\u001b[0m\u001b[0m\n\u001b[1;32m     35\u001b[0m             \u001b[0;32mif\u001b[0m\u001b[0;34m(\u001b[0m\u001b[0mcont\u001b[0m\u001b[0;34m%\u001b[0m\u001b[0;36m2\u001b[0m \u001b[0;34m==\u001b[0m \u001b[0;36m0\u001b[0m\u001b[0;34m)\u001b[0m\u001b[0;34m:\u001b[0m \u001b[0;31m#riga pari\u001b[0m\u001b[0;34m\u001b[0m\u001b[0m\n",
      "\u001b[0;31mTypeError\u001b[0m: draw() takes exactly 5 arguments (4 given)"
     ]
    }
   ],
   "source": [
    "ggpl_bone_structure(\"frame_date_443391.csv\")"
   ]
  },
  {
   "cell_type": "code",
   "execution_count": null,
   "metadata": {
    "collapsed": true
   },
   "outputs": [],
   "source": []
  },
  {
   "cell_type": "code",
   "execution_count": null,
   "metadata": {
    "collapsed": true
   },
   "outputs": [],
   "source": []
  },
  {
   "cell_type": "code",
   "execution_count": null,
   "metadata": {
    "collapsed": true
   },
   "outputs": [],
   "source": []
  },
  {
   "cell_type": "code",
   "execution_count": null,
   "metadata": {
    "collapsed": true
   },
   "outputs": [],
   "source": []
  }
 ],
 "metadata": {
  "anaconda-cloud": {},
  "kernelspec": {
   "display_name": "Python [default]",
   "language": "python",
   "name": "python2"
  },
  "language_info": {
   "codemirror_mode": {
    "name": "ipython",
    "version": 2
   },
   "file_extension": ".py",
   "mimetype": "text/x-python",
   "name": "python",
   "nbconvert_exporter": "python",
   "pygments_lexer": "ipython2",
   "version": "2.7.12"
  }
 },
 "nbformat": 4,
 "nbformat_minor": 1
}
