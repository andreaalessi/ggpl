{
 "cells": [
  {
   "cell_type": "markdown",
   "metadata": {},
   "source": [
    "# Workshop 11 : My Model of suburban neighborhood"
   ]
  },
  {
   "cell_type": "markdown",
   "metadata": {
    "collapsed": true
   },
   "source": [
    "## Description : "
   ]
  },
  {
   "cell_type": "markdown",
   "metadata": {},
   "source": [
    "the \"workshop_11\" includes all the features developed in previous workshops. the neighborhood is created on the pattern in figure below, it is used the function \"MAP (BEZIER (S1) (curves)) (INTERVALS (1) (5))\" to create curves of roads starting from a set of points taken from a .lines files also are used BOX functions to create the base and MATERIAL, the workshop includes all the previous workshops to address the creation of the house."
   ]
  },
  {
   "cell_type": "markdown",
   "metadata": {},
   "source": [
    "## Neighborhood that I took as a model"
   ]
  },
  {
   "cell_type": "markdown",
   "metadata": {},
   "source": [
    "![Caption Figura](img/planning.jpg)"
   ]
  },
  {
   "cell_type": "markdown",
   "metadata": {},
   "source": [
    "## Main Function"
   ]
  },
  {
   "cell_type": "markdown",
   "metadata": {},
   "source": [
    "the function \"suburban_neighborhood (filename)\"\n",
    "takes as input a .lines file (street.line) derived from a .svg file containing the layout of the roads and streets with curves creates, by inserting houses taken from the workshop_10 model, maintaining the same texture, they were also created and inserted trees, to obtain a representation as faithful as possible to the original."
   ]
  },
  {
   "cell_type": "markdown",
   "metadata": {},
   "source": [
    "### Auxiliary Functions"
   ]
  },
  {
   "cell_type": "markdown",
   "metadata": {},
   "source": [
    "Using the previous workshops without any modification. It added a \"tree.py\" function for the creation of trees."
   ]
  },
  {
   "cell_type": "code",
   "execution_count": null,
   "metadata": {
    "collapsed": true
   },
   "outputs": [],
   "source": [
    "from pyplasm import * \n",
    "from hw import workshop_10 as w10\n",
    "from hw import workshop_09 as w09\n",
    "from hw import tree\n",
    "import csv\n",
    "\n",
    "\n",
    "def suburban_neighborhood(filename):\n",
    "\twith open(\"lines/\"+filename + \".lines\", \"rb\") as file:\n",
    "\t\treader = csv.reader(file, delimiter=\",\")\n",
    "\t\tstreet = []\n",
    "\t\tfor line in reader:\n",
    "\t\t\tstreet.append([float(line[0]),float(line[1])])\n",
    "\t\t\tstreet.append([float(line[2]),float(line[3])])\n",
    "\n",
    "\tstreets = []\n",
    "\tcurve = []\n",
    "\tcont = 0\n",
    "\tfor i in range(len(street)):\n",
    "\t\tcurve.append(street[i])\n",
    "\t\tcont += 1\n",
    "\t\tif cont == 2:\n",
    "\t\t\tstrada = MAP(BEZIER(S1)(curve))(INTERVALS(1)(5))\n",
    "\t\t\tcurve = []\n",
    "\t\t\tstreets.append(strada)\n",
    "\t\t\tcont= 0\n",
    "\n",
    "\t#create from file .lines the street with the curve\n",
    "\n",
    "\tstreets = STRUCT(streets)\n",
    "\tstreetsB=streets\n",
    "\tstreets = OFFSET([10,10])(streets)\n",
    "\tstreetsB = OFFSET([15,15])(streetsB)\n",
    "\tstreets = PROD([QUOTE([3]),streets])\n",
    "\tstreetsB = PROD([QUOTE([1]),streetsB])\n",
    "\tstreets = R([1,3])(-PI/2)(streets)\n",
    "\tstreetsB = R([1,3])(-PI/2)(streetsB)\n",
    "\n",
    "\t#create box\n",
    "\n",
    "\tbox = BOX([1,2])(streets)\n",
    "\tboxUp = OFFSET([0,0,10])(box)\n",
    "\tbox = OFFSET([0,0,40])(box)\n",
    "\tstreets = T(3)(52)(streets)\n",
    "\tstreetsB = T([1,2,3])([-2,-2,51])(streetsB)\n",
    "\tboxUp = T(3)(40)(boxUp)\n",
    "\tstreets = MATERIAL([.01,.01,.01,1,  106/255.0,101/255.0,97/255.0,1,  0,0,0,1, 0,0,0,1, 1]) (streets)\n",
    "\tboxUp = TEXTURE(\"texture/prato1.jpg\")(boxUp)\n",
    "\tbox = TEXTURE(\"texture/redWood.jpg\")(box)\n",
    "\tbox = STRUCT([box,boxUp])\n",
    "\tboxStreets= STRUCT([box,streets,streetsB])\n",
    "\tboxStreets = T(3)(-51)(boxStreets)\n",
    "\t#VIEW(boxStreets)\n",
    "\t\n",
    "\t#add the houses\n",
    "\n",
    "\thouse = w10.MultistoreyHouse()\n",
    "\thouse = R([1,2])(PI/2)(house)\n",
    "\thouse = S([1,2,3])([(SIZE([1])(streets)[0])/(17*SIZE([1])(house)[0]),(SIZE([2])(house)[0])/(0.5*SIZE([2])(house)[0]),(SIZE([3])(streets)[0])/(.1*SIZE([3])(house)[0])]) (house)\n",
    "\thouse2 = T(2)(-50)(house)\n",
    "\thouse3 = T(2)(-100)(house)\n",
    "\thouse4 = T(2)(-150)(house)\n",
    "\n",
    "\tcomplex1 = STRUCT([house,house2,house3,house4])\n",
    "\tcomplex1 = T([1,2])([660,280])(complex1)\n",
    "\tcomplex2 = R([1,2])(PI)(complex1)\n",
    "\tcomplex2 = T([1,2])([590*2,230*2])(complex2)\n",
    "\tr1r2 = STRUCT([complex1,complex2])\n",
    "\tr3r4 = T([1,2])([250,-320])(r1r2)\n",
    "\tr3r4 = R([1,2])(PI/9)(r3r4)\n",
    "\n",
    "\tcomplex5 = R([1,2])(PI)(complex1)\n",
    "\tcomplex5 = T([1,2])([550*3,100])(complex5)\n",
    "\tcomplex5 = R([1,2])(PI/9)(complex5)\n",
    "\n",
    "\n",
    "\thouseB = w10.MultistoreyHouse()\n",
    "\thouseB = S([1,2,3])([(SIZE([1])(streets)[0])/(15*SIZE([1])(houseB)[0]),(SIZE([2])(houseB)[0])/(0.4*SIZE([2])(houseB)[0]),(SIZE([3])(streets)[0])/(.07*SIZE([3])(houseB)[0])])(houseB)\n",
    "\thouseB = R([1,2])(-PI/2)(houseB)\n",
    "\thouse2 = T(2)(-60)(houseB)\n",
    "\thouse3 = T(2)(-60)(house2)\n",
    "\thouse4 = T(2)(-60)(house3)\n",
    "\thouse5 = T(2)(-60)(house4)\n",
    "\thouse6 = T(2)(-60)(house5)\n",
    "\thouse7 = T(2)(-60)(house6)\n",
    "\thouse8 = T(2)(-60)(house7)\n",
    "\thouse9 = T(2)(-60)(house8)\n",
    "\thouse10 = T(2)(-60)(house9)\n",
    "\n",
    "\tres1=STRUCT([houseB,house2,house3,house4,house5,house6,house7,house8,house9,house10])\n",
    "\tres1 = T([1,2])([650,700])(res1)\n",
    "\tres1 = R([1,2])(PI/9)(res1)\n",
    "\n",
    "\th1c =  w10.MultistoreyHouse()\n",
    "\th1c = S([1,2,3])([(SIZE([1])(streets)[0])/(14*SIZE([1])(h1c)[0]),(SIZE([2])(h1c)[0])/(0.4*SIZE([2])(h1c)[0]),(SIZE([3])(streets)[0])/(.07*SIZE([3])(h1c)[0])])(h1c)\n",
    "\th1cr1 = R([1,2])(-PI/2)(h1c)\n",
    "\th1cr2= R([1,2])(PI/9)(h1cr1)\n",
    "\th1cr = R([1,2])(-PI/9)(h1cr1)\n",
    "\th1c = T([1,2])([670,400])(h1cr)\n",
    "\th2c = T([1,2])([670,560])(h1cr)\n",
    "\n",
    "\th11c = T([1,2])([770,380])(h1cr)\n",
    "\th12c = T([1,2])([770,480])(h1cr)\n",
    "\n",
    "\th3c\t= T([1,2])([970,420])(h1cr2)\n",
    "\th4c = T([1,2])([970,490])(h1cr2)\n",
    "\th5c = T([1,2])([940,550])(h1cr2)\n",
    "\th6c = T([1,2])([900,630])(h1cr2)\n",
    "\n",
    "\th7c= T([1,2])([250,320])(h1c)\n",
    "\th8c= T([1,2])([250,400])(h1c)\n",
    "\th9c= T([1,2])([250,480])(h1c)\n",
    "\th10c= T([1,2])([250,560])(h1c)\n",
    "\n",
    "\th1=w10.MultistoreyHouse()\n",
    "\th1 = S([1,2,3])([(SIZE([1])(streets)[0])/(14*SIZE([1])(h1)[0]),(SIZE([2])(h1)[0])/(0.4*SIZE([2])(h1)[0]),\n",
    "\t\t (SIZE([3])(streets)[0])/(.07*SIZE([3])(h1)[0])])(h1)\n",
    "\th1 = T([1,2])([-20,720])(h1c)\n",
    "\th2 = T([1,2])([60,0])(h1)\n",
    "\th3 = T([1,2])([130,0])(h1)\n",
    "\th4 = T([1,2])([220,0])(h1)\n",
    "\th5 = T([1,2])([290,0])(h1)\n",
    "\n",
    "\n",
    "\thdx1 = T([1,2])([-150,-100])(h1)\n",
    "\thdx2 = T([1,2])([-70,120])(hdx1)\n",
    "\n",
    "\tho1=w10.MultistoreyHouse()\n",
    "\tho1b = S([1,2,3])([(SIZE([1])(streets)[0])/(14*SIZE([1])(ho1)[0]),(SIZE([2])(ho1)[0])/(0.4*SIZE([2])(ho1)[0]),\n",
    "\t\t (SIZE([3])(streets)[0])/(.07*SIZE([3])(ho1)[0])])(ho1)\n",
    "\tho1= T([1,2])([800,360])(ho1b)\n",
    "\tho1 = R([1,2])(PI/9)(ho1)\n",
    "\tho2= T([1,2])([100,70])(ho1)\n",
    "\n",
    "\th13c = R([1,2])(PI)(ho1b)\n",
    "\th13c = T([1,2])([750,850])(h13c)\n",
    "\th14c = T([1,2])([-100,100])(h13c)\n",
    "\th15c = T([1,2])([100,0])(h14c)\n",
    "\th16c = T([1,2])([-40,-100])(h14c)\n",
    "\n",
    "\t# add trees\n",
    "\ttreesList = [tree.albero()]\n",
    "\tfor i in range(3):\n",
    "\t\ttreesList.append(T([1,2])([(2*i)+i,(2*i)])(tree.albero()))\n",
    "\ttrees = STRUCT(treesList)\n",
    "\ttrees = S([1,2,3])([(SIZE([1])(streets)[0])/(3.5/2*SIZE([1])(house)[0]),(SIZE([1])(streets)[0])/(3.5/2*SIZE([1])(house)[0]),(2*SIZE([3])(streets)[0])/(0.03*SIZE([3])(house)[0])]) (trees)\n",
    "\ttreesrp = R([1,2])(1.50)(trees)\n",
    "\ttreesrm = R([1,2])(-2)(trees)\n",
    "\t#quadrante centrale\n",
    "\ttree0 = T([1,2])([620,590])(treesrp)\n",
    "\ttree1 = T([1,2])([640,670])(treesrm)\n",
    "\ttree6 = T([1,2])([820,690])(treesrm)\n",
    "\ttree7 = T([1,2])([850,690])(treesrm)\n",
    "\ttree8 = T([1,2])([620,490])(treesrm)\n",
    "\n",
    "\t#quadrante altodx\n",
    "\ttree2 = T([1,2])([450,270])(treesrm)\n",
    "\ttree3 = T([1,2])([460,370])(treesrm)\n",
    "\ttree4 = T([1,2])([450,480])(treesrm)\n",
    "\ttree5 = T([1,2])([460,590])(treesrm)\n",
    "\n",
    "\t#quadrante sx\n",
    "\ttree9 = T([1,2])([950,180])(treesrp)\n",
    "\t#quadrante dx\n",
    "\ttree10 = T([1,2])([1000,900])(treesrm)\n",
    "\n",
    "\t#combine the various elements\n",
    "\n",
    "\tneighborhood=STRUCT([boxStreets,r1r2])\n",
    "\tneighborhood=STRUCT([neighborhood,r3r4])\n",
    "\tneighborhood=STRUCT([neighborhood,complex5])\n",
    "\tneighborhood=STRUCT([neighborhood,res1])\n",
    "\tneighborhood=STRUCT([neighborhood,h1c,h2c,h3c,h4c,h5c,h6c,h7c,h8c,h9c,h10c,h11c,h12c])\n",
    "\tneighborhood=STRUCT([neighborhood,h1,h2,h3,h4,h5])\n",
    "\tneighborhood=STRUCT([neighborhood,hdx1,hdx2])\n",
    "\tneighborhood=STRUCT([neighborhood,ho1,ho2])\n",
    "\tneighborhood=STRUCT([neighborhood,h13c,h14c,h15c,h16c])\n",
    "\tneighborhood=STRUCT([neighborhood,tree0,tree1,tree2,\n",
    "\t\ttree3,tree4,tree5,tree6,tree7,tree8,tree9,tree10])\n",
    "\n",
    "\n",
    "\treturn neighborhood\n",
    "\n",
    "\n",
    "def main():\n",
    "\tVIEW(suburban_neighborhood(\"street\"))\n",
    "if __name__=='__main__':\n",
    "\tmain()"
   ]
  },
  {
   "cell_type": "markdown",
   "metadata": {},
   "source": [
    "## Results: "
   ]
  },
  {
   "cell_type": "markdown",
   "metadata": {},
   "source": [
    "![Caption Figura](img/img1.png)"
   ]
  },
  {
   "cell_type": "markdown",
   "metadata": {},
   "source": [
    "![Caption Figura](img/img2.png)"
   ]
  },
  {
   "cell_type": "markdown",
   "metadata": {},
   "source": [
    "![Caption Figura](img/img5.png)"
   ]
  },
  {
   "cell_type": "markdown",
   "metadata": {},
   "source": [
    "![Caption Figura](img/img6.png)"
   ]
  },
  {
   "cell_type": "markdown",
   "metadata": {},
   "source": [
    "![Caption Figura](img/img8.png)"
   ]
  },
  {
   "cell_type": "markdown",
   "metadata": {},
   "source": [
    "![Caption Figura](img/img9.png)"
   ]
  },
  {
   "cell_type": "markdown",
   "metadata": {},
   "source": [
    "![Caption Figura](img/img11.png)"
   ]
  },
  {
   "cell_type": "markdown",
   "metadata": {},
   "source": [
    "![Caption Figura](img/img15.png)"
   ]
  },
  {
   "cell_type": "markdown",
   "metadata": {},
   "source": [
    "![Caption Figura](img/img18.png)"
   ]
  },
  {
   "cell_type": "markdown",
   "metadata": {},
   "source": [
    "![Caption Figura](img/img20.png)"
   ]
  },
  {
   "cell_type": "code",
   "execution_count": null,
   "metadata": {
    "collapsed": true
   },
   "outputs": [],
   "source": []
  }
 ],
 "metadata": {
  "anaconda-cloud": {},
  "kernelspec": {
   "display_name": "Python [default]",
   "language": "python",
   "name": "python2"
  },
  "language_info": {
   "codemirror_mode": {
    "name": "ipython",
    "version": 2
   },
   "file_extension": ".py",
   "mimetype": "text/x-python",
   "name": "python",
   "nbconvert_exporter": "python",
   "pygments_lexer": "ipython2",
   "version": "2.7.12"
  }
 },
 "nbformat": 4,
 "nbformat_minor": 1
}
